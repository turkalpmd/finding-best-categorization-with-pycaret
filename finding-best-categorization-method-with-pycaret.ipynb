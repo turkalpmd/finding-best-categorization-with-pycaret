{
 "cells": [
  {
   "cell_type": "markdown",
   "id": "9b2a0c27",
   "metadata": {
    "papermill": {
     "duration": 0.016715,
     "end_time": "2022-07-18T02:27:21.286892",
     "exception": false,
     "start_time": "2022-07-18T02:27:21.270177",
     "status": "completed"
    },
    "tags": []
   },
   "source": [
    "# FIND THE BEST CATEGORIZATION METHOD FOR NUMERIC FEATURES"
   ]
  },
  {
   "cell_type": "markdown",
   "id": "b12af860",
   "metadata": {
    "papermill": {
     "duration": 0.015419,
     "end_time": "2022-07-18T02:27:21.317838",
     "exception": false,
     "start_time": "2022-07-18T02:27:21.302419",
     "status": "completed"
    },
    "tags": []
   },
   "source": [
    "### Caution: Before section\n",
    "#### If you don't understand CART categorization please check up this link:\n",
    "[CART analysis for stroke prediction](https://www.kaggle.com/code/zzettrkalpakbal/cart-analysis-for-stroke-prediction-acc-94-9)"
   ]
  },
  {
   "cell_type": "markdown",
   "id": "f35b0ce6",
   "metadata": {
    "papermill": {
     "duration": 0.016262,
     "end_time": "2022-07-18T02:27:21.349407",
     "exception": false,
     "start_time": "2022-07-18T02:27:21.333145",
     "status": "completed"
    },
    "tags": []
   },
   "source": [
    "![](https://images.ctfassets.net/3viuren4us1n/4jw95A7JsM8bx6jPGCBSka/9c16251949c69108d0702d7fc0ce8042/product_categorization.jpg)\n",
    "\n",
    "#### Actually, I could have done all my work on this subject (stroke prediction) with a single notebook, but this would be very complex for review, and unfortunately, would cause a loss of information. I really work hard to create something different. I also have a hard time reading long notebooks and I think it would be more beneficial if they were in separated by goal sections."
   ]
  },
  {
   "cell_type": "code",
   "execution_count": 1,
   "id": "4971f60b",
   "metadata": {
    "execution": {
     "iopub.execute_input": "2022-07-18T02:27:21.382523Z",
     "iopub.status.busy": "2022-07-18T02:27:21.381899Z",
     "iopub.status.idle": "2022-07-18T02:27:42.656782Z",
     "shell.execute_reply": "2022-07-18T02:27:42.655338Z"
    },
    "papermill": {
     "duration": 21.295628,
     "end_time": "2022-07-18T02:27:42.660469",
     "exception": false,
     "start_time": "2022-07-18T02:27:21.364841",
     "status": "completed"
    },
    "tags": []
   },
   "outputs": [
    {
     "name": "stdout",
     "output_type": "stream",
     "text": [
      "Collecting pingouin\r\n",
      "  Downloading pingouin-0.5.2.tar.gz (185 kB)\r\n",
      "\u001b[2K     \u001b[90m━━━━━━━━━━━━━━━━━━━━━━━━━━━━━━━━━━━━━━━\u001b[0m \u001b[32m185.4/185.4 kB\u001b[0m \u001b[31m1.3 MB/s\u001b[0m eta \u001b[36m0:00:00\u001b[0m\r\n",
      "\u001b[?25h  Preparing metadata (setup.py) ... \u001b[?25l-\b \bdone\r\n",
      "\u001b[?25hRequirement already satisfied: numpy>=1.19 in /opt/conda/lib/python3.7/site-packages (from pingouin) (1.21.6)\r\n",
      "Requirement already satisfied: scipy>=1.7 in /opt/conda/lib/python3.7/site-packages (from pingouin) (1.7.3)\r\n",
      "Requirement already satisfied: pandas>=1.0 in /opt/conda/lib/python3.7/site-packages (from pingouin) (1.3.5)\r\n",
      "Requirement already satisfied: matplotlib>=3.0.2 in /opt/conda/lib/python3.7/site-packages (from pingouin) (3.5.2)\r\n",
      "Requirement already satisfied: seaborn>=0.11 in /opt/conda/lib/python3.7/site-packages (from pingouin) (0.11.2)\r\n",
      "Requirement already satisfied: statsmodels>=0.13 in /opt/conda/lib/python3.7/site-packages (from pingouin) (0.13.2)\r\n",
      "Requirement already satisfied: scikit-learn<1.1.0 in /opt/conda/lib/python3.7/site-packages (from pingouin) (1.0.2)\r\n",
      "Collecting pandas_flavor>=0.2.0\r\n",
      "  Downloading pandas_flavor-0.3.0-py3-none-any.whl (6.3 kB)\r\n",
      "Collecting outdated\r\n",
      "  Downloading outdated-0.2.1-py3-none-any.whl (7.5 kB)\r\n",
      "Requirement already satisfied: tabulate in /opt/conda/lib/python3.7/site-packages (from pingouin) (0.8.10)\r\n",
      "Requirement already satisfied: fonttools>=4.22.0 in /opt/conda/lib/python3.7/site-packages (from matplotlib>=3.0.2->pingouin) (4.33.3)\r\n",
      "Requirement already satisfied: cycler>=0.10 in /opt/conda/lib/python3.7/site-packages (from matplotlib>=3.0.2->pingouin) (0.11.0)\r\n",
      "Requirement already satisfied: packaging>=20.0 in /opt/conda/lib/python3.7/site-packages (from matplotlib>=3.0.2->pingouin) (21.3)\r\n",
      "Requirement already satisfied: python-dateutil>=2.7 in /opt/conda/lib/python3.7/site-packages (from matplotlib>=3.0.2->pingouin) (2.8.2)\r\n",
      "Requirement already satisfied: pillow>=6.2.0 in /opt/conda/lib/python3.7/site-packages (from matplotlib>=3.0.2->pingouin) (9.1.1)\r\n",
      "Requirement already satisfied: kiwisolver>=1.0.1 in /opt/conda/lib/python3.7/site-packages (from matplotlib>=3.0.2->pingouin) (1.4.2)\r\n",
      "Requirement already satisfied: pyparsing>=2.2.1 in /opt/conda/lib/python3.7/site-packages (from matplotlib>=3.0.2->pingouin) (3.0.9)\r\n",
      "Requirement already satisfied: pytz>=2017.3 in /opt/conda/lib/python3.7/site-packages (from pandas>=1.0->pingouin) (2022.1)\r\n",
      "Collecting pandas_flavor>=0.2.0\r\n",
      "  Downloading pandas_flavor-0.2.0-py2.py3-none-any.whl (6.6 kB)\r\n",
      "Requirement already satisfied: xarray in /opt/conda/lib/python3.7/site-packages (from pandas_flavor>=0.2.0->pingouin) (0.20.2)\r\n",
      "Requirement already satisfied: joblib>=0.11 in /opt/conda/lib/python3.7/site-packages (from scikit-learn<1.1.0->pingouin) (1.1.0)\r\n",
      "Requirement already satisfied: threadpoolctl>=2.0.0 in /opt/conda/lib/python3.7/site-packages (from scikit-learn<1.1.0->pingouin) (3.1.0)\r\n",
      "Requirement already satisfied: patsy>=0.5.2 in /opt/conda/lib/python3.7/site-packages (from statsmodels>=0.13->pingouin) (0.5.2)\r\n",
      "Requirement already satisfied: requests in /opt/conda/lib/python3.7/site-packages (from outdated->pingouin) (2.27.1)\r\n",
      "Collecting littleutils\r\n",
      "  Downloading littleutils-0.2.2.tar.gz (6.6 kB)\r\n",
      "  Preparing metadata (setup.py) ... \u001b[?25l-\b \bdone\r\n",
      "\u001b[?25hRequirement already satisfied: typing-extensions in /opt/conda/lib/python3.7/site-packages (from kiwisolver>=1.0.1->matplotlib>=3.0.2->pingouin) (4.1.1)\r\n",
      "Requirement already satisfied: six in /opt/conda/lib/python3.7/site-packages (from patsy>=0.5.2->statsmodels>=0.13->pingouin) (1.16.0)\r\n",
      "Requirement already satisfied: urllib3<1.27,>=1.21.1 in /opt/conda/lib/python3.7/site-packages (from requests->outdated->pingouin) (1.26.9)\r\n",
      "Requirement already satisfied: certifi>=2017.4.17 in /opt/conda/lib/python3.7/site-packages (from requests->outdated->pingouin) (2022.6.15)\r\n",
      "Requirement already satisfied: idna<4,>=2.5 in /opt/conda/lib/python3.7/site-packages (from requests->outdated->pingouin) (3.3)\r\n",
      "Requirement already satisfied: charset-normalizer~=2.0.0 in /opt/conda/lib/python3.7/site-packages (from requests->outdated->pingouin) (2.0.12)\r\n",
      "Requirement already satisfied: importlib-metadata in /opt/conda/lib/python3.7/site-packages (from xarray->pandas_flavor>=0.2.0->pingouin) (4.12.0)\r\n",
      "Requirement already satisfied: zipp>=0.5 in /opt/conda/lib/python3.7/site-packages (from importlib-metadata->xarray->pandas_flavor>=0.2.0->pingouin) (3.8.0)\r\n",
      "Building wheels for collected packages: pingouin, littleutils\r\n",
      "  Building wheel for pingouin (setup.py) ... \u001b[?25l-\b \b\\\b \b|\b \bdone\r\n",
      "\u001b[?25h  Created wheel for pingouin: filename=pingouin-0.5.2-py3-none-any.whl size=196206 sha256=aeb8c11a735395910e53b9ea164df56b0d38f7bec097261c4f106a0b41b905a6\r\n",
      "  Stored in directory: /root/.cache/pip/wheels/11/5a/63/a6d32fc26fa462c731f65480bfb98ff7bd39b8ebcb4bc6c2fe\r\n",
      "  Building wheel for littleutils (setup.py) ... \u001b[?25l-\b \b\\\b \bdone\r\n",
      "\u001b[?25h  Created wheel for littleutils: filename=littleutils-0.2.2-py3-none-any.whl size=7048 sha256=36377f142fb8a45d67906768ccee6d9386c092a19a7dd64905e7969dcb1675c8\r\n",
      "  Stored in directory: /root/.cache/pip/wheels/d6/64/cd/32819b511a488e4993f2fab909a95330289c3f4e0f6ef4676d\r\n",
      "Successfully built pingouin littleutils\r\n",
      "Installing collected packages: littleutils, outdated, pandas_flavor, pingouin\r\n",
      "Successfully installed littleutils-0.2.2 outdated-0.2.1 pandas_flavor-0.2.0 pingouin-0.5.2\r\n",
      "\u001b[33mWARNING: Running pip as the 'root' user can result in broken permissions and conflicting behaviour with the system package manager. It is recommended to use a virtual environment instead: https://pip.pypa.io/warnings/venv\u001b[0m\u001b[33m\r\n",
      "\u001b[0m"
     ]
    }
   ],
   "source": [
    "# Required Libraries\n",
    "import numpy as np\n",
    "import pandas as pd\n",
    "import matplotlib.pyplot as plt\n",
    "import seaborn as sns\n",
    "#!pip uninstall scipy -y\n",
    "#!pip uninstall pingouin -y\n",
    "!pip install pingouin\n",
    "import pingouin as pg\n",
    "import warnings"
   ]
  },
  {
   "cell_type": "markdown",
   "id": "8fa26ec2",
   "metadata": {
    "papermill": {
     "duration": 0.019217,
     "end_time": "2022-07-18T02:27:42.699395",
     "exception": false,
     "start_time": "2022-07-18T02:27:42.680178",
     "status": "completed"
    },
    "tags": []
   },
   "source": [
    "#### I have used handled bmi features.\n",
    "#### You can check-up that how handling of missing values with this [link.](https://www.kaggle.com/code/zzettrkalpakbal/pycaret-regressor-for-integrating-missing-values)\n"
   ]
  },
  {
   "cell_type": "code",
   "execution_count": 2,
   "id": "99d62494",
   "metadata": {
    "execution": {
     "iopub.execute_input": "2022-07-18T02:27:42.738857Z",
     "iopub.status.busy": "2022-07-18T02:27:42.738027Z",
     "iopub.status.idle": "2022-07-18T02:27:42.767243Z",
     "shell.execute_reply": "2022-07-18T02:27:42.766410Z"
    },
    "papermill": {
     "duration": 0.05273,
     "end_time": "2022-07-18T02:27:42.770458",
     "exception": false,
     "start_time": "2022-07-18T02:27:42.717728",
     "status": "completed"
    },
    "tags": []
   },
   "outputs": [],
   "source": [
    "df = pd.read_csv(\"../input/full-filled-brain-stroke-dataset/full_data.csv\")"
   ]
  },
  {
   "cell_type": "markdown",
   "id": "1a456fee",
   "metadata": {
    "papermill": {
     "duration": 0.017721,
     "end_time": "2022-07-18T02:27:42.807193",
     "exception": false,
     "start_time": "2022-07-18T02:27:42.789472",
     "status": "completed"
    },
    "tags": []
   },
   "source": []
  },
  {
   "cell_type": "markdown",
   "id": "d7042df1",
   "metadata": {
    "papermill": {
     "duration": 0.01762,
     "end_time": "2022-07-18T02:27:42.842322",
     "exception": false,
     "start_time": "2022-07-18T02:27:42.824702",
     "status": "completed"
    },
    "tags": []
   },
   "source": [
    "![](https://encrypted-tbn0.gstatic.com/images?q=tbn:ANd9GcTS2WQYfu3aLkmpLTyc3so7aktnshobxZ30qQ&usqp=CAU)\n",
    "\n",
    "* A stroke is a medical condition in which poor blood flow to the brain causes cell death. There are two main types of stroke: ischemic, due to lack of blood flow, and hemorrhagic, due to bleeding. Both cause parts of the brain to stop functioning properly. Signs and symptoms of a stroke may include an inability to move or feel on one side of the body, problems understanding or speaking, dizziness, or loss of vision to one side. Signs and symptoms often appear soon after the stroke has occurred. If symptoms last less than one or two hours, the stroke is a transient ischemic attack (TIA), also called a mini-stroke. A hemorrhagic stroke may also be associated with a severe headache. The symptoms of a stroke can be permanent. Long-term complications may include pneumonia and loss of bladder control.\n",
    "\n",
    "* The main risk factor for stroke is high blood pressure. Other risk factors include high blood cholesterol, tobacco smoking, obesity, diabetes mellitus, a previous TIA, end-stage kidney disease, and atrial fibrillation. An ischemic stroke is typically caused by blockage of a blood vessel, though there are also less common causes. A hemorrhagic stroke is caused by either bleeding directly into the brain or into the space between the brain's membranes. Bleeding may occur due to a ruptured brain aneurysm. Diagnosis is typically based on a physical exam and supported by medical imaging such as a CT scan or MRI scan. A CT scan can rule out bleeding, but may not necessarily rule out ischemia, which early on typically does not show up on a CT scan. Other tests such as an electrocardiogram (ECG) and blood tests are done to determine risk factors and rule out other possible causes. Low blood sugar may cause similar symptoms.\n",
    "\n",
    "* Prevention includes decreasing risk factors, surgery to open up the arteries to the brain in those with problematic carotid narrowing, and warfarin in people with atrial fibrillation. Aspirin or statins may be recommended by physicians for prevention. A stroke or TIA often requires emergency care. An ischemic stroke, if detected within three to four and half hours, may be treatable with a medication that can break down the clot. Some hemorrhagic strokes benefit from surgery. Treatment to attempt recovery of lost function is called stroke rehabilitation, and ideally takes place in a stroke unit; however, these are not available in much of the world.\n",
    "\n",
    "* Attribute Information\n",
    "    * 1) gender: \"Male\", \"Female\" or \"Other\"\n",
    "    * 2) age: age of the patient\n",
    "    * 3) hypertension: 0 if the patient doesn't have hypertension, 1 if the patient has hypertension\n",
    "    * 4) heartdisease: 0 if the patient doesn't have any heart diseases, 1 if the patient has a heart disease\n",
    "    * 5) evermarried: \"No\" or \"Yes\"\n",
    "    * 6) worktype: \"children\", \"Govtjov\", \"Neverworked\", \"Private\" or \"Self-employed\" 7) Residencetype: \"Rural\" or \"Urban\"\n",
    "    * 8) avgglucoselevel: average glucose level in blood\n",
    "    * 9) bmi: body mass index\n",
    "    * 10) smoking_status: \"formerly smoked\", \"never smoked\", \"smokes\" or \"Unknown\"\n",
    "        * Note: \"Unknown\" in smoking_status means that the information is unavailable for this patient\n",
    "    * 11) stroke: 1 if the patient had a stroke or 0 if not\n",
    "\n",
    "\n",
    "Real data sources:"
   ]
  },
  {
   "cell_type": "code",
   "execution_count": 3,
   "id": "a491a3cf",
   "metadata": {
    "execution": {
     "iopub.execute_input": "2022-07-18T02:27:42.880681Z",
     "iopub.status.busy": "2022-07-18T02:27:42.879799Z",
     "iopub.status.idle": "2022-07-18T02:27:42.911576Z",
     "shell.execute_reply": "2022-07-18T02:27:42.910232Z"
    },
    "papermill": {
     "duration": 0.053998,
     "end_time": "2022-07-18T02:27:42.914230",
     "exception": false,
     "start_time": "2022-07-18T02:27:42.860232",
     "status": "completed"
    },
    "tags": []
   },
   "outputs": [
    {
     "data": {
      "text/html": [
       "<div>\n",
       "<style scoped>\n",
       "    .dataframe tbody tr th:only-of-type {\n",
       "        vertical-align: middle;\n",
       "    }\n",
       "\n",
       "    .dataframe tbody tr th {\n",
       "        vertical-align: top;\n",
       "    }\n",
       "\n",
       "    .dataframe thead th {\n",
       "        text-align: right;\n",
       "    }\n",
       "</style>\n",
       "<table border=\"1\" class=\"dataframe\">\n",
       "  <thead>\n",
       "    <tr style=\"text-align: right;\">\n",
       "      <th></th>\n",
       "      <th>gender</th>\n",
       "      <th>age</th>\n",
       "      <th>hypertension</th>\n",
       "      <th>heart_disease</th>\n",
       "      <th>ever_married</th>\n",
       "      <th>work_type</th>\n",
       "      <th>Residence_type</th>\n",
       "      <th>avg_glucose_level</th>\n",
       "      <th>bmi</th>\n",
       "      <th>smoking_status</th>\n",
       "      <th>stroke</th>\n",
       "    </tr>\n",
       "  </thead>\n",
       "  <tbody>\n",
       "    <tr>\n",
       "      <th>0</th>\n",
       "      <td>Male</td>\n",
       "      <td>67.0</td>\n",
       "      <td>0</td>\n",
       "      <td>1</td>\n",
       "      <td>Yes</td>\n",
       "      <td>Private</td>\n",
       "      <td>Urban</td>\n",
       "      <td>228.69</td>\n",
       "      <td>36.6</td>\n",
       "      <td>formerly smoked</td>\n",
       "      <td>1</td>\n",
       "    </tr>\n",
       "    <tr>\n",
       "      <th>1</th>\n",
       "      <td>Male</td>\n",
       "      <td>80.0</td>\n",
       "      <td>0</td>\n",
       "      <td>1</td>\n",
       "      <td>Yes</td>\n",
       "      <td>Private</td>\n",
       "      <td>Rural</td>\n",
       "      <td>105.92</td>\n",
       "      <td>32.5</td>\n",
       "      <td>never smoked</td>\n",
       "      <td>1</td>\n",
       "    </tr>\n",
       "    <tr>\n",
       "      <th>2</th>\n",
       "      <td>Female</td>\n",
       "      <td>49.0</td>\n",
       "      <td>0</td>\n",
       "      <td>0</td>\n",
       "      <td>Yes</td>\n",
       "      <td>Private</td>\n",
       "      <td>Urban</td>\n",
       "      <td>171.23</td>\n",
       "      <td>34.4</td>\n",
       "      <td>smokes</td>\n",
       "      <td>1</td>\n",
       "    </tr>\n",
       "    <tr>\n",
       "      <th>3</th>\n",
       "      <td>Female</td>\n",
       "      <td>79.0</td>\n",
       "      <td>1</td>\n",
       "      <td>0</td>\n",
       "      <td>Yes</td>\n",
       "      <td>Self-employed</td>\n",
       "      <td>Rural</td>\n",
       "      <td>174.12</td>\n",
       "      <td>24.0</td>\n",
       "      <td>never smoked</td>\n",
       "      <td>1</td>\n",
       "    </tr>\n",
       "    <tr>\n",
       "      <th>4</th>\n",
       "      <td>Male</td>\n",
       "      <td>81.0</td>\n",
       "      <td>0</td>\n",
       "      <td>0</td>\n",
       "      <td>Yes</td>\n",
       "      <td>Private</td>\n",
       "      <td>Urban</td>\n",
       "      <td>186.21</td>\n",
       "      <td>29.0</td>\n",
       "      <td>formerly smoked</td>\n",
       "      <td>1</td>\n",
       "    </tr>\n",
       "  </tbody>\n",
       "</table>\n",
       "</div>"
      ],
      "text/plain": [
       "   gender   age  hypertension  heart_disease ever_married      work_type  \\\n",
       "0    Male  67.0             0              1          Yes        Private   \n",
       "1    Male  80.0             0              1          Yes        Private   \n",
       "2  Female  49.0             0              0          Yes        Private   \n",
       "3  Female  79.0             1              0          Yes  Self-employed   \n",
       "4    Male  81.0             0              0          Yes        Private   \n",
       "\n",
       "  Residence_type  avg_glucose_level   bmi   smoking_status  stroke  \n",
       "0          Urban             228.69  36.6  formerly smoked       1  \n",
       "1          Rural             105.92  32.5     never smoked       1  \n",
       "2          Urban             171.23  34.4           smokes       1  \n",
       "3          Rural             174.12  24.0     never smoked       1  \n",
       "4          Urban             186.21  29.0  formerly smoked       1  "
      ]
     },
     "execution_count": 3,
     "metadata": {},
     "output_type": "execute_result"
    }
   ],
   "source": [
    "df.head()"
   ]
  },
  {
   "cell_type": "code",
   "execution_count": 4,
   "id": "6d11ad1d",
   "metadata": {
    "execution": {
     "iopub.execute_input": "2022-07-18T02:27:42.952846Z",
     "iopub.status.busy": "2022-07-18T02:27:42.952364Z",
     "iopub.status.idle": "2022-07-18T02:27:42.982141Z",
     "shell.execute_reply": "2022-07-18T02:27:42.980737Z"
    },
    "papermill": {
     "duration": 0.052157,
     "end_time": "2022-07-18T02:27:42.984953",
     "exception": false,
     "start_time": "2022-07-18T02:27:42.932796",
     "status": "completed"
    },
    "tags": []
   },
   "outputs": [],
   "source": [
    "# Selecting columns type\n",
    "\n",
    "def grab_col_names(dataframe, cat_th=10, car_th=20):\n",
    "\n",
    "    # cat_cols, cat_but_car\n",
    "    cat_cols = [col for col in dataframe.columns if dataframe[col].dtypes == \"O\"]\n",
    "    num_but_cat = [col for col in dataframe.columns if dataframe[col].nunique() < cat_th and\n",
    "                   dataframe[col].dtypes != \"O\"]\n",
    "    cat_but_car = [col for col in dataframe.columns if dataframe[col].nunique() > car_th and\n",
    "                   dataframe[col].dtypes == \"O\"]\n",
    "    cat_cols = cat_cols + num_but_cat\n",
    "    cat_cols = [col for col in cat_cols if col not in cat_but_car]\n",
    "\n",
    "    # num_cols\n",
    "    num_cols = [col for col in dataframe.columns if dataframe[col].dtypes != \"O\"]\n",
    "    num_cols = [col for col in num_cols if col not in num_but_cat]\n",
    "  \n",
    "    return cat_cols, num_cols, cat_but_car\n",
    "###\n",
    "cat_cols, num_cols, cat_but_car = grab_col_names(df)\n",
    "target = \"stroke\""
   ]
  },
  {
   "cell_type": "markdown",
   "id": "d73ba67c",
   "metadata": {
    "papermill": {
     "duration": 0.018693,
     "end_time": "2022-07-18T02:27:43.021667",
     "exception": false,
     "start_time": "2022-07-18T02:27:43.002974",
     "status": "completed"
    },
    "tags": []
   },
   "source": [
    "# Inferential statistic methods should never be underestimated.\n",
    "### We can more understand data with inferential statistic.\n",
    "#### Bu today our goal is different, find to best categorical method!\n",
    "![](https://cdn-images-1.medium.com/max/616/1*ZJ-se-X3nYulpTmEo2T9HA.png)"
   ]
  },
  {
   "cell_type": "code",
   "execution_count": 5,
   "id": "c93b1e30",
   "metadata": {
    "execution": {
     "iopub.execute_input": "2022-07-18T02:27:43.061191Z",
     "iopub.status.busy": "2022-07-18T02:27:43.060705Z",
     "iopub.status.idle": "2022-07-18T02:27:43.417489Z",
     "shell.execute_reply": "2022-07-18T02:27:43.416041Z"
    },
    "papermill": {
     "duration": 0.380055,
     "end_time": "2022-07-18T02:27:43.420538",
     "exception": false,
     "start_time": "2022-07-18T02:27:43.040483",
     "status": "completed"
    },
    "tags": []
   },
   "outputs": [
    {
     "name": "stdout",
     "output_type": "stream",
     "text": [
      "Skewness of age feature:  -0.14\n",
      "**********\n",
      "Kurtosis of age feature:  -0.99\n",
      "**********\n",
      "Shapiro-Wilk Normality test of age feature: \n",
      "             W          pval  normal\n",
      "age  0.966632  1.761990e-32   False\n",
      "**********\n"
     ]
    },
    {
     "data": {
      "image/png": "[encoded data removed]",
      "text/plain": [
       "<Figure size 432x288 with 1 Axes>"
      ]
     },
     "metadata": {
      "needs_background": "light"
     },
     "output_type": "display_data"
    }
   ],
   "source": [
    "print(\"Skewness of age feature: \",df.age.skew().round(2))\n",
    "print(\"*\"*10)\n",
    "print(\"Kurtosis of age feature: \",df.age.kurt().round(2))\n",
    "print(\"*\"*10)\n",
    "print(\"Shapiro-Wilk Normality test of age feature: \\n\",pg.normality(df.age))\n",
    "print(\"*\"*10)\n",
    "sns.histplot(df.age,kde=True)\n",
    "plt.show()"
   ]
  },
  {
   "cell_type": "code",
   "execution_count": 6,
   "id": "1b7514d0",
   "metadata": {
    "execution": {
     "iopub.execute_input": "2022-07-18T02:27:43.465464Z",
     "iopub.status.busy": "2022-07-18T02:27:43.464038Z",
     "iopub.status.idle": "2022-07-18T02:27:43.788527Z",
     "shell.execute_reply": "2022-07-18T02:27:43.787487Z"
    },
    "papermill": {
     "duration": 0.351006,
     "end_time": "2022-07-18T02:27:43.791001",
     "exception": false,
     "start_time": "2022-07-18T02:27:43.439995",
     "status": "completed"
    },
    "tags": []
   },
   "outputs": [
    {
     "name": "stdout",
     "output_type": "stream",
     "text": [
      "Skewness of avg_glucose_level feature:  1.59\n",
      "**********\n",
      "Kurtosis of avg_glucose_level feature:  1.75\n",
      "**********\n",
      "Shapiro-Wilk Normality test of avg_glucose_level feature: \n",
      "                           W  pval  normal\n",
      "avg_glucose_level  0.805101   0.0   False\n",
      "**********\n"
     ]
    },
    {
     "data": {
      "image/png": "[encoded data removed]",
      "text/plain": [
       "<Figure size 432x288 with 1 Axes>"
      ]
     },
     "metadata": {
      "needs_background": "light"
     },
     "output_type": "display_data"
    }
   ],
   "source": [
    "print(\"Skewness of avg_glucose_level feature: \",df.avg_glucose_level.skew().round(2))\n",
    "print(\"*\"*10)\n",
    "print(\"Kurtosis of avg_glucose_level feature: \",df.avg_glucose_level.kurt().round(2))\n",
    "print(\"*\"*10)\n",
    "print(\"Shapiro-Wilk Normality test of avg_glucose_level feature: \\n\",pg.normality(df.avg_glucose_level))\n",
    "print(\"*\"*10)\n",
    "\n",
    "sns.histplot(df.avg_glucose_level,kde=True)\n",
    "plt.show()"
   ]
  },
  {
   "cell_type": "code",
   "execution_count": 7,
   "id": "b2180a10",
   "metadata": {
    "execution": {
     "iopub.execute_input": "2022-07-18T02:27:43.832741Z",
     "iopub.status.busy": "2022-07-18T02:27:43.832222Z",
     "iopub.status.idle": "2022-07-18T02:27:44.140770Z",
     "shell.execute_reply": "2022-07-18T02:27:44.139526Z"
    },
    "papermill": {
     "duration": 0.332127,
     "end_time": "2022-07-18T02:27:44.143318",
     "exception": false,
     "start_time": "2022-07-18T02:27:43.811191",
     "status": "completed"
    },
    "tags": []
   },
   "outputs": [
    {
     "name": "stdout",
     "output_type": "stream",
     "text": [
      "Skewness of bmi feature:  0.37\n",
      "**********\n",
      "Kurtosis of bmi feature:  -0.14\n",
      "**********\n",
      "Shapiro-Wilk Normality test of bmi feature: \n",
      "             W          pval  normal\n",
      "bmi  0.987395  1.075952e-20   False\n",
      "**********\n"
     ]
    },
    {
     "data": {
      "image/png": "[encoded data removed]",
      "text/plain": [
       "<Figure size 432x288 with 1 Axes>"
      ]
     },
     "metadata": {
      "needs_background": "light"
     },
     "output_type": "display_data"
    }
   ],
   "source": [
    "print(\"Skewness of bmi feature: \",df.bmi.skew().round(2))\n",
    "print(\"*\"*10)\n",
    "print(\"Kurtosis of bmi feature: \",df.bmi.kurt().round(2))\n",
    "print(\"*\"*10)\n",
    "print(\"Shapiro-Wilk Normality test of bmi feature: \\n\",pg.normality(df.bmi))\n",
    "print(\"*\"*10)\n",
    "sns.histplot(df.bmi,kde=True)\n",
    "plt.show()"
   ]
  },
  {
   "cell_type": "markdown",
   "id": "bd3c52a6",
   "metadata": {
    "papermill": {
     "duration": 0.01893,
     "end_time": "2022-07-18T02:27:44.182110",
     "exception": false,
     "start_time": "2022-07-18T02:27:44.163180",
     "status": "completed"
    },
    "tags": []
   },
   "source": [
    "### * All calculations are carried out for samples larger than 5000. Although 𝑊 will be calculated correctly, the accuracy of its 𝑃-value cannot be guaranteed. Our samples are near the 5000"
   ]
  },
  {
   "cell_type": "markdown",
   "id": "a637ed80",
   "metadata": {
    "papermill": {
     "duration": 0.020115,
     "end_time": "2022-07-18T02:27:44.222545",
     "exception": false,
     "start_time": "2022-07-18T02:27:44.202430",
     "status": "completed"
    },
    "tags": []
   },
   "source": [
    "##### Nearest sample for normal distribution. But it is not.\n",
    "##### Skewness and Kurtosis value are showing normally distribution."
   ]
  },
  {
   "cell_type": "markdown",
   "id": "b30e0fcb",
   "metadata": {
    "papermill": {
     "duration": 0.018871,
     "end_time": "2022-07-18T02:27:44.260636",
     "exception": false,
     "start_time": "2022-07-18T02:27:44.241765",
     "status": "completed"
    },
    "tags": []
   },
   "source": [
    "## On the other hand, we should also look at the outlier values."
   ]
  },
  {
   "cell_type": "code",
   "execution_count": 8,
   "id": "cf145453",
   "metadata": {
    "execution": {
     "iopub.execute_input": "2022-07-18T02:27:44.302908Z",
     "iopub.status.busy": "2022-07-18T02:27:44.302134Z",
     "iopub.status.idle": "2022-07-18T02:27:44.323880Z",
     "shell.execute_reply": "2022-07-18T02:27:44.322543Z"
    },
    "papermill": {
     "duration": 0.045973,
     "end_time": "2022-07-18T02:27:44.326438",
     "exception": false,
     "start_time": "2022-07-18T02:27:44.280465",
     "status": "completed"
    },
    "tags": []
   },
   "outputs": [
    {
     "name": "stdout",
     "output_type": "stream",
     "text": [
      "age\n",
      "Max 82.0 Min 0.08 Mean 43.42\n",
      "IQR:  36.0 Q1:  25.0 down board:  -29.0  Q3:  61.0 upper board:  115.0\n",
      "For the feature age, No of Outliers is 0\n",
      "________________________________________________________________________________\n",
      "avg_glucose_level\n",
      "Max 271.74 Min 55.12 Mean 105.94\n",
      "IQR:  36.63 Q1:  77.23 down board:  22.28  Q3:  113.86 upper board:  168.81\n",
      "For the feature avg_glucose_level, No of Outliers is 602\n",
      "________________________________________________________________________________\n",
      "bmi\n",
      "Max 48.9 Min 14.0 Mean 28.5\n",
      "IQR:  8.9 Q1:  23.7 down board:  10.35  Q3:  32.6 upper board:  45.95\n",
      "For the feature bmi, No of Outliers is 43\n",
      "________________________________________________________________________________\n"
     ]
    }
   ],
   "source": [
    "def outliers (df_out,drop=False):\n",
    "    for each_feature in df_out.columns:\n",
    "        feature_data = df_out[each_feature]\n",
    "        Q1 = np.round(np.percentile(feature_data,25),2)\n",
    "        Q3 = np.round(np.percentile(feature_data,75),2)\n",
    "        IQR = np.round(Q3-Q1,2)\n",
    "        outlier_step = np.round(IQR * 1.5,2)\n",
    "        print(\"Max\",np.max(feature_data),\"Min\",np.min(feature_data),\"Mean\",np.round(np.mean(feature_data),2))\n",
    "        print(\"IQR: \",IQR,\"Q1: \",Q1,\"down board: \",Q1-outlier_step,\" Q3: \",Q3,\"upper board: \",Q3+outlier_step)\n",
    "        outliers = feature_data[~((feature_data >= Q1 - outlier_step)&(feature_data <= Q3 + outlier_step))].index.tolist()\n",
    "        print('For the feature {}, No of Outliers is {}'.format(each_feature,len(outliers)))\n",
    "\n",
    "for i in num_cols:\n",
    "    print(i)\n",
    "    outliers(df[[i]])\n",
    "    print(80*\"_\")"
   ]
  },
  {
   "cell_type": "code",
   "execution_count": 9,
   "id": "e2bb62d7",
   "metadata": {
    "execution": {
     "iopub.execute_input": "2022-07-18T02:27:44.369449Z",
     "iopub.status.busy": "2022-07-18T02:27:44.368949Z",
     "iopub.status.idle": "2022-07-18T02:27:44.380298Z",
     "shell.execute_reply": "2022-07-18T02:27:44.379259Z"
    },
    "papermill": {
     "duration": 0.035287,
     "end_time": "2022-07-18T02:27:44.382401",
     "exception": false,
     "start_time": "2022-07-18T02:27:44.347114",
     "status": "completed"
    },
    "tags": []
   },
   "outputs": [
    {
     "name": "stdout",
     "output_type": "stream",
     "text": [
      "Avg glucose level have: 602 number of outlier values\n",
      "Also if we are dropping outliers, we will lost 83 number of target values. \n"
     ]
    }
   ],
   "source": [
    "print(\"Avg glucose level have: {} number of outlier values\".format(df[df.avg_glucose_level>168.81].shape[0]))\n",
    "print(\"Also if we are dropping outliers, we will lost {} number of target values. \".format(df[df.avg_glucose_level>168.81].stroke.value_counts().values[1]))"
   ]
  },
  {
   "cell_type": "code",
   "execution_count": 10,
   "id": "caf41351",
   "metadata": {
    "execution": {
     "iopub.execute_input": "2022-07-18T02:27:44.424493Z",
     "iopub.status.busy": "2022-07-18T02:27:44.423733Z",
     "iopub.status.idle": "2022-07-18T02:27:44.897622Z",
     "shell.execute_reply": "2022-07-18T02:27:44.896201Z"
    },
    "papermill": {
     "duration": 0.498423,
     "end_time": "2022-07-18T02:27:44.900540",
     "exception": false,
     "start_time": "2022-07-18T02:27:44.402117",
     "status": "completed"
    },
    "tags": []
   },
   "outputs": [
    {
     "data": {
      "image/png": "[encoded data removed]",
      "text/plain": [
       "<Figure size 432x288 with 1 Axes>"
      ]
     },
     "metadata": {
      "needs_background": "light"
     },
     "output_type": "display_data"
    }
   ],
   "source": [
    "liste = []\n",
    "\n",
    "for i in np.arange(df.avg_glucose_level.min(),df.avg_glucose_level.max()):\n",
    "    a = df[df.avg_glucose_level<i].stroke.value_counts().values\n",
    "    if len(a)>1:\n",
    "        liste.append(100*(a[1]/np.sum(a)))\n",
    "    else:\n",
    "        liste.append(0)\n",
    "\n",
    "    \n",
    "sns.scatterplot(x=range(len(liste)),y=liste)\n",
    "plt.hlines(y=4.6, xmin=168.81, xmax=df.avg_glucose_level.max(), colors='red', linestyles='-', lw=2,label=\"12% lost\")\n",
    "plt.vlines(x=168.81, ymin=4.6, ymax=6, colors='red', linestyles='-', lw=2,)\n",
    "plt.legend()\n",
    "plt.ylim(3,6)\n",
    "plt.show()\n",
    "\n",
    "# I think is we must dooesn't drop outliers. "
   ]
  },
  {
   "cell_type": "markdown",
   "id": "6c3127f6",
   "metadata": {
    "papermill": {
     "duration": 0.023382,
     "end_time": "2022-07-18T02:27:44.945828",
     "exception": false,
     "start_time": "2022-07-18T02:27:44.922446",
     "status": "completed"
    },
    "tags": []
   },
   "source": [
    "# STRATIFICATION\n",
    "### I was firstly stratification via medical guidelines.\n",
    "#### In the medicine field inferential methods used commonlyr for understanding to data.\n",
    "* The t-test is any statistical hypothesis test in which the test statistic follows a Student's t-distribution under the null hypothesis.\n",
    "\n",
    "* A t-test is the most commonly applied when the test statistic would follow a normal distribution if the value of a scaling term in the test statistic were known. When the scaling term is unknown and is replaced by an estimate based on the data, the test statistics (under certain conditions) follow a Student's t distribution. The t-test can be used, for example, to determine if the means of two sets of data are significantly different from each other.\n",
    "\n",
    "* I also used it to compare the values of patients who already had stroke with those who did not have stroke to see how much these two groups differ from each other."
   ]
  },
  {
   "cell_type": "markdown",
   "id": "d6317397",
   "metadata": {
    "papermill": {
     "duration": 0.021171,
     "end_time": "2022-07-18T02:27:44.989526",
     "exception": false,
     "start_time": "2022-07-18T02:27:44.968355",
     "status": "completed"
    },
    "tags": []
   },
   "source": [
    "![](https://cdn.analyticsvidhya.com/wp-content/uploads/2019/05/t-test.jpg)"
   ]
  },
  {
   "cell_type": "code",
   "execution_count": 11,
   "id": "29b0d923",
   "metadata": {
    "execution": {
     "iopub.execute_input": "2022-07-18T02:27:45.034771Z",
     "iopub.status.busy": "2022-07-18T02:27:45.034345Z",
     "iopub.status.idle": "2022-07-18T02:27:45.093789Z",
     "shell.execute_reply": "2022-07-18T02:27:45.092300Z"
    },
    "papermill": {
     "duration": 0.085572,
     "end_time": "2022-07-18T02:27:45.096508",
     "exception": false,
     "start_time": "2022-07-18T02:27:45.010936",
     "status": "completed"
    },
    "tags": []
   },
   "outputs": [
    {
     "data": {
      "text/html": [
       "<div>\n",
       "<style scoped>\n",
       "    .dataframe tbody tr th:only-of-type {\n",
       "        vertical-align: middle;\n",
       "    }\n",
       "\n",
       "    .dataframe tbody tr th {\n",
       "        vertical-align: top;\n",
       "    }\n",
       "\n",
       "    .dataframe thead th {\n",
       "        text-align: right;\n",
       "    }\n",
       "</style>\n",
       "<table border=\"1\" class=\"dataframe\">\n",
       "  <thead>\n",
       "    <tr style=\"text-align: right;\">\n",
       "      <th></th>\n",
       "      <th>T</th>\n",
       "      <th>dof</th>\n",
       "      <th>alternative</th>\n",
       "      <th>p-val</th>\n",
       "      <th>CI95%</th>\n",
       "      <th>cohen-d</th>\n",
       "      <th>BF10</th>\n",
       "      <th>power</th>\n",
       "      <th>hypothesis</th>\n",
       "    </tr>\n",
       "  </thead>\n",
       "  <tbody>\n",
       "    <tr>\n",
       "      <th>ttest_with_age</th>\n",
       "      <td>29.595</td>\n",
       "      <td>333.6</td>\n",
       "      <td>two-sided</td>\n",
       "      <td>0.0</td>\n",
       "      <td>[23.97, 27.39]</td>\n",
       "      <td>1.169</td>\n",
       "      <td>1.49e+173</td>\n",
       "      <td>1.0</td>\n",
       "      <td>Different_population</td>\n",
       "    </tr>\n",
       "    <tr>\n",
       "      <th>ttest_with_avg_glucose_level</th>\n",
       "      <td>6.948</td>\n",
       "      <td>260.056</td>\n",
       "      <td>two-sided</td>\n",
       "      <td>0.0</td>\n",
       "      <td>[19.78, 35.43]</td>\n",
       "      <td>0.618</td>\n",
       "      <td>1.418e+09</td>\n",
       "      <td>1.0</td>\n",
       "      <td>Different_population</td>\n",
       "    </tr>\n",
       "    <tr>\n",
       "      <th>ttest_with_bmi</th>\n",
       "      <td>4.767</td>\n",
       "      <td>286.111</td>\n",
       "      <td>two-sided</td>\n",
       "      <td>0.0</td>\n",
       "      <td>[1.04, 2.51]</td>\n",
       "      <td>0.262</td>\n",
       "      <td>5161.258</td>\n",
       "      <td>0.98</td>\n",
       "      <td>Different_population</td>\n",
       "    </tr>\n",
       "  </tbody>\n",
       "</table>\n",
       "</div>"
      ],
      "text/plain": [
       "                                   T      dof alternative p-val  \\\n",
       "ttest_with_age                29.595    333.6   two-sided   0.0   \n",
       "ttest_with_avg_glucose_level   6.948  260.056   two-sided   0.0   \n",
       "ttest_with_bmi                 4.767  286.111   two-sided   0.0   \n",
       "\n",
       "                                       CI95% cohen-d       BF10 power  \\\n",
       "ttest_with_age                [23.97, 27.39]   1.169  1.49e+173   1.0   \n",
       "ttest_with_avg_glucose_level  [19.78, 35.43]   0.618  1.418e+09   1.0   \n",
       "ttest_with_bmi                  [1.04, 2.51]   0.262   5161.258  0.98   \n",
       "\n",
       "                                        hypothesis  \n",
       "ttest_with_age                Different_population  \n",
       "ttest_with_avg_glucose_level  Different_population  \n",
       "ttest_with_bmi                Different_population  "
      ]
     },
     "execution_count": 11,
     "metadata": {},
     "output_type": "execute_result"
    }
   ],
   "source": [
    "# Let's investigating to t-test of numeric values:\n",
    "def ttest(all_data,num_cols,target_column,paired_=False):\n",
    "  # alternative = \"two-sided\",\"less\",\"greater\"\n",
    "    tt = pd.DataFrame()\n",
    "    values = ['T', 'dof', 'alternative', 'p-val', 'CI95%', 'cohen-d', 'BF10','power']\n",
    "    tt[\"values\"] = values\n",
    "    tt.set_index(\"values\")\n",
    "    for i in num_cols:\n",
    "        q = pg.ttest(all_data[all_data[target_column]==1][i],\n",
    "                   all_data[all_data[target_column]==0][i],\n",
    "                   paired=paired_, # If you have same lenght array change to True\n",
    "                   alternative='two-sided',\n",
    "                   correction='auto',\n",
    "                   r=0.707,\n",
    "                   confidence=0.95).round(3).values\n",
    "\n",
    "        tt[\"ttest_with_\"+str(i)] = q.T\n",
    "    tt = tt.T\n",
    "    tt.rename(columns=tt.iloc[0],inplace=True)\n",
    "    tt.drop(tt.index[0],inplace=True)\n",
    "    hypothesis = []\n",
    "    for i in range(len(tt)):    \n",
    "        if tt[\"p-val\"][i]<0.05:\n",
    "            hypothesis.append(\"Different_population\")\n",
    "        else:\n",
    "            hypothesis.append(\"Same_population\")\n",
    "    tt[\"hypothesis\"] = hypothesis\n",
    "    return tt   \n",
    "ttest(df,num_cols,target)"
   ]
  },
  {
   "cell_type": "markdown",
   "id": "075507bb",
   "metadata": {
    "papermill": {
     "duration": 0.020804,
     "end_time": "2022-07-18T02:27:45.137771",
     "exception": false,
     "start_time": "2022-07-18T02:27:45.116967",
     "status": "completed"
    },
    "tags": []
   },
   "source": [
    "### I have understood with t-test that, All the numeric features are important for discriminating to target population. "
   ]
  },
  {
   "cell_type": "markdown",
   "id": "4d89f441",
   "metadata": {
    "papermill": {
     "duration": 0.019791,
     "end_time": "2022-07-18T02:27:45.177768",
     "exception": false,
     "start_time": "2022-07-18T02:27:45.157977",
     "status": "completed"
    },
    "tags": []
   },
   "source": [
    "# Glucose levels\n",
    "![](https://ncmkak2op1ygpx62dn79ct7z-wpengine.netdna-ssl.com/wp-content/uploads/2021/08/BloodGlucoseChart.jpg)"
   ]
  },
  {
   "cell_type": "markdown",
   "id": "fe19f2f0",
   "metadata": {
    "papermill": {
     "duration": 0.019871,
     "end_time": "2022-07-18T02:27:45.217933",
     "exception": false,
     "start_time": "2022-07-18T02:27:45.198062",
     "status": "completed"
    },
    "tags": []
   },
   "source": [
    "### We have just average values, I want to use fasting values. Because, average blood glucose near to fasting values rather than eating intervals (domain info)."
   ]
  },
  {
   "cell_type": "code",
   "execution_count": 12,
   "id": "422f9a8d",
   "metadata": {
    "execution": {
     "iopub.execute_input": "2022-07-18T02:27:45.260013Z",
     "iopub.status.busy": "2022-07-18T02:27:45.259556Z",
     "iopub.status.idle": "2022-07-18T02:27:45.287886Z",
     "shell.execute_reply": "2022-07-18T02:27:45.286562Z"
    },
    "papermill": {
     "duration": 0.052355,
     "end_time": "2022-07-18T02:27:45.290245",
     "exception": false,
     "start_time": "2022-07-18T02:27:45.237890",
     "status": "completed"
    },
    "tags": []
   },
   "outputs": [
    {
     "data": {
      "text/html": [
       "<div>\n",
       "<style scoped>\n",
       "    .dataframe tbody tr th:only-of-type {\n",
       "        vertical-align: middle;\n",
       "    }\n",
       "\n",
       "    .dataframe tbody tr th {\n",
       "        vertical-align: top;\n",
       "    }\n",
       "\n",
       "    .dataframe thead th {\n",
       "        text-align: right;\n",
       "    }\n",
       "</style>\n",
       "<table border=\"1\" class=\"dataframe\">\n",
       "  <thead>\n",
       "    <tr style=\"text-align: right;\">\n",
       "      <th></th>\n",
       "      <th>gender</th>\n",
       "      <th>age</th>\n",
       "      <th>hypertension</th>\n",
       "      <th>heart_disease</th>\n",
       "      <th>ever_married</th>\n",
       "      <th>work_type</th>\n",
       "      <th>Residence_type</th>\n",
       "      <th>avg_glucose_level</th>\n",
       "      <th>bmi</th>\n",
       "      <th>smoking_status</th>\n",
       "      <th>stroke</th>\n",
       "      <th>glucat</th>\n",
       "    </tr>\n",
       "  </thead>\n",
       "  <tbody>\n",
       "    <tr>\n",
       "      <th>0</th>\n",
       "      <td>Male</td>\n",
       "      <td>67.0</td>\n",
       "      <td>0</td>\n",
       "      <td>1</td>\n",
       "      <td>Yes</td>\n",
       "      <td>Private</td>\n",
       "      <td>Urban</td>\n",
       "      <td>228.69</td>\n",
       "      <td>36.6</td>\n",
       "      <td>formerly smoked</td>\n",
       "      <td>1</td>\n",
       "      <td>4.0</td>\n",
       "    </tr>\n",
       "    <tr>\n",
       "      <th>1</th>\n",
       "      <td>Male</td>\n",
       "      <td>80.0</td>\n",
       "      <td>0</td>\n",
       "      <td>1</td>\n",
       "      <td>Yes</td>\n",
       "      <td>Private</td>\n",
       "      <td>Rural</td>\n",
       "      <td>105.92</td>\n",
       "      <td>32.5</td>\n",
       "      <td>never smoked</td>\n",
       "      <td>1</td>\n",
       "      <td>3.0</td>\n",
       "    </tr>\n",
       "    <tr>\n",
       "      <th>2</th>\n",
       "      <td>Female</td>\n",
       "      <td>49.0</td>\n",
       "      <td>0</td>\n",
       "      <td>0</td>\n",
       "      <td>Yes</td>\n",
       "      <td>Private</td>\n",
       "      <td>Urban</td>\n",
       "      <td>171.23</td>\n",
       "      <td>34.4</td>\n",
       "      <td>smokes</td>\n",
       "      <td>1</td>\n",
       "      <td>4.0</td>\n",
       "    </tr>\n",
       "    <tr>\n",
       "      <th>3</th>\n",
       "      <td>Female</td>\n",
       "      <td>79.0</td>\n",
       "      <td>1</td>\n",
       "      <td>0</td>\n",
       "      <td>Yes</td>\n",
       "      <td>Self-employed</td>\n",
       "      <td>Rural</td>\n",
       "      <td>174.12</td>\n",
       "      <td>24.0</td>\n",
       "      <td>never smoked</td>\n",
       "      <td>1</td>\n",
       "      <td>4.0</td>\n",
       "    </tr>\n",
       "    <tr>\n",
       "      <th>4</th>\n",
       "      <td>Male</td>\n",
       "      <td>81.0</td>\n",
       "      <td>0</td>\n",
       "      <td>0</td>\n",
       "      <td>Yes</td>\n",
       "      <td>Private</td>\n",
       "      <td>Urban</td>\n",
       "      <td>186.21</td>\n",
       "      <td>29.0</td>\n",
       "      <td>formerly smoked</td>\n",
       "      <td>1</td>\n",
       "      <td>4.0</td>\n",
       "    </tr>\n",
       "  </tbody>\n",
       "</table>\n",
       "</div>"
      ],
      "text/plain": [
       "   gender   age  hypertension  heart_disease ever_married      work_type  \\\n",
       "0    Male  67.0             0              1          Yes        Private   \n",
       "1    Male  80.0             0              1          Yes        Private   \n",
       "2  Female  49.0             0              0          Yes        Private   \n",
       "3  Female  79.0             1              0          Yes  Self-employed   \n",
       "4    Male  81.0             0              0          Yes        Private   \n",
       "\n",
       "  Residence_type  avg_glucose_level   bmi   smoking_status  stroke  glucat  \n",
       "0          Urban             228.69  36.6  formerly smoked       1     4.0  \n",
       "1          Rural             105.92  32.5     never smoked       1     3.0  \n",
       "2          Urban             171.23  34.4           smokes       1     4.0  \n",
       "3          Rural             174.12  24.0     never smoked       1     4.0  \n",
       "4          Urban             186.21  29.0  formerly smoked       1     4.0  "
      ]
     },
     "execution_count": 12,
     "metadata": {},
     "output_type": "execute_result"
    }
   ],
   "source": [
    "# Finding the categorical years\n",
    "\n",
    "df.loc[(df.avg_glucose_level < 80), 'glucat'] = 1\n",
    "df.loc[(df.avg_glucose_level >= 80)&(df.avg_glucose_level<100), 'glucat'] = 2\n",
    "df.loc[(df.avg_glucose_level >= 100)&(df.avg_glucose_level<126), 'glucat'] = 3\n",
    "df.loc[(df.avg_glucose_level >= 126), 'glucat'] = 4\n",
    "\n",
    "df.head()"
   ]
  },
  {
   "cell_type": "markdown",
   "id": "b5f7bc0b",
   "metadata": {
    "papermill": {
     "duration": 0.020173,
     "end_time": "2022-07-18T02:27:45.330993",
     "exception": false,
     "start_time": "2022-07-18T02:27:45.310820",
     "status": "completed"
    },
    "tags": []
   },
   "source": [
    "# Body mass index (BMI)\n",
    "* Body mass index (BMI) is a person’s weight in kilograms divided by the square of height in meters. BMI is an inexpensive and easy screening method for weight category—underweight, healthy weight, overweight, and obesity.\n",
    "\n",
    "* BMI does not measure body fat directly, but BMI is moderately correlated with more direct measures of body fat. Furthermore, BMI appears to be as strongly correlated with various metabolic and disease outcome as are these more direct measures of body fatness.\n",
    "\n",
    "* Formula: weight (kg) / [height (m)]^2\n",
    "    * With the metric system, the formula for BMI is weight in kilograms divided by height in meters squared. Because height is commonly measured in centimeters, divide height in centimeters by 100 to obtain height in meters.\n",
    "\n",
    "    * Example: Weight = 68 kg, Height = 165 cm (1.65 m)\n",
    "    * Calculation: 68 ÷ (1.65)^2 = 24.98"
   ]
  },
  {
   "cell_type": "markdown",
   "id": "2d3e29e0",
   "metadata": {
    "papermill": {
     "duration": 0.019967,
     "end_time": "2022-07-18T02:27:45.372402",
     "exception": false,
     "start_time": "2022-07-18T02:27:45.352435",
     "status": "completed"
    },
    "tags": []
   },
   "source": [
    "![](https://journey-fit.com/wp2021/wp-content/uploads/2021/07/bmi-categories_med.jpg)"
   ]
  },
  {
   "cell_type": "code",
   "execution_count": 13,
   "id": "d07fe3eb",
   "metadata": {
    "execution": {
     "iopub.execute_input": "2022-07-18T02:27:45.415999Z",
     "iopub.status.busy": "2022-07-18T02:27:45.414539Z",
     "iopub.status.idle": "2022-07-18T02:27:45.444624Z",
     "shell.execute_reply": "2022-07-18T02:27:45.443240Z"
    },
    "papermill": {
     "duration": 0.054431,
     "end_time": "2022-07-18T02:27:45.447059",
     "exception": false,
     "start_time": "2022-07-18T02:27:45.392628",
     "status": "completed"
    },
    "tags": []
   },
   "outputs": [
    {
     "data": {
      "text/html": [
       "<div>\n",
       "<style scoped>\n",
       "    .dataframe tbody tr th:only-of-type {\n",
       "        vertical-align: middle;\n",
       "    }\n",
       "\n",
       "    .dataframe tbody tr th {\n",
       "        vertical-align: top;\n",
       "    }\n",
       "\n",
       "    .dataframe thead th {\n",
       "        text-align: right;\n",
       "    }\n",
       "</style>\n",
       "<table border=\"1\" class=\"dataframe\">\n",
       "  <thead>\n",
       "    <tr style=\"text-align: right;\">\n",
       "      <th></th>\n",
       "      <th>gender</th>\n",
       "      <th>age</th>\n",
       "      <th>hypertension</th>\n",
       "      <th>heart_disease</th>\n",
       "      <th>ever_married</th>\n",
       "      <th>work_type</th>\n",
       "      <th>Residence_type</th>\n",
       "      <th>avg_glucose_level</th>\n",
       "      <th>bmi</th>\n",
       "      <th>smoking_status</th>\n",
       "      <th>stroke</th>\n",
       "      <th>glucat</th>\n",
       "      <th>bmicat</th>\n",
       "    </tr>\n",
       "  </thead>\n",
       "  <tbody>\n",
       "    <tr>\n",
       "      <th>0</th>\n",
       "      <td>Male</td>\n",
       "      <td>67.0</td>\n",
       "      <td>0</td>\n",
       "      <td>1</td>\n",
       "      <td>Yes</td>\n",
       "      <td>Private</td>\n",
       "      <td>Urban</td>\n",
       "      <td>228.69</td>\n",
       "      <td>36.6</td>\n",
       "      <td>formerly smoked</td>\n",
       "      <td>1</td>\n",
       "      <td>4.0</td>\n",
       "      <td>5.0</td>\n",
       "    </tr>\n",
       "    <tr>\n",
       "      <th>1</th>\n",
       "      <td>Male</td>\n",
       "      <td>80.0</td>\n",
       "      <td>0</td>\n",
       "      <td>1</td>\n",
       "      <td>Yes</td>\n",
       "      <td>Private</td>\n",
       "      <td>Rural</td>\n",
       "      <td>105.92</td>\n",
       "      <td>32.5</td>\n",
       "      <td>never smoked</td>\n",
       "      <td>1</td>\n",
       "      <td>3.0</td>\n",
       "      <td>4.0</td>\n",
       "    </tr>\n",
       "    <tr>\n",
       "      <th>2</th>\n",
       "      <td>Female</td>\n",
       "      <td>49.0</td>\n",
       "      <td>0</td>\n",
       "      <td>0</td>\n",
       "      <td>Yes</td>\n",
       "      <td>Private</td>\n",
       "      <td>Urban</td>\n",
       "      <td>171.23</td>\n",
       "      <td>34.4</td>\n",
       "      <td>smokes</td>\n",
       "      <td>1</td>\n",
       "      <td>4.0</td>\n",
       "      <td>4.0</td>\n",
       "    </tr>\n",
       "    <tr>\n",
       "      <th>3</th>\n",
       "      <td>Female</td>\n",
       "      <td>79.0</td>\n",
       "      <td>1</td>\n",
       "      <td>0</td>\n",
       "      <td>Yes</td>\n",
       "      <td>Self-employed</td>\n",
       "      <td>Rural</td>\n",
       "      <td>174.12</td>\n",
       "      <td>24.0</td>\n",
       "      <td>never smoked</td>\n",
       "      <td>1</td>\n",
       "      <td>4.0</td>\n",
       "      <td>2.0</td>\n",
       "    </tr>\n",
       "    <tr>\n",
       "      <th>4</th>\n",
       "      <td>Male</td>\n",
       "      <td>81.0</td>\n",
       "      <td>0</td>\n",
       "      <td>0</td>\n",
       "      <td>Yes</td>\n",
       "      <td>Private</td>\n",
       "      <td>Urban</td>\n",
       "      <td>186.21</td>\n",
       "      <td>29.0</td>\n",
       "      <td>formerly smoked</td>\n",
       "      <td>1</td>\n",
       "      <td>4.0</td>\n",
       "      <td>3.0</td>\n",
       "    </tr>\n",
       "  </tbody>\n",
       "</table>\n",
       "</div>"
      ],
      "text/plain": [
       "   gender   age  hypertension  heart_disease ever_married      work_type  \\\n",
       "0    Male  67.0             0              1          Yes        Private   \n",
       "1    Male  80.0             0              1          Yes        Private   \n",
       "2  Female  49.0             0              0          Yes        Private   \n",
       "3  Female  79.0             1              0          Yes  Self-employed   \n",
       "4    Male  81.0             0              0          Yes        Private   \n",
       "\n",
       "  Residence_type  avg_glucose_level   bmi   smoking_status  stroke  glucat  \\\n",
       "0          Urban             228.69  36.6  formerly smoked       1     4.0   \n",
       "1          Rural             105.92  32.5     never smoked       1     3.0   \n",
       "2          Urban             171.23  34.4           smokes       1     4.0   \n",
       "3          Rural             174.12  24.0     never smoked       1     4.0   \n",
       "4          Urban             186.21  29.0  formerly smoked       1     4.0   \n",
       "\n",
       "   bmicat  \n",
       "0     5.0  \n",
       "1     4.0  \n",
       "2     4.0  \n",
       "3     2.0  \n",
       "4     3.0  "
      ]
     },
     "execution_count": 13,
     "metadata": {},
     "output_type": "execute_result"
    }
   ],
   "source": [
    "df.loc[(df.bmi <= 18.5), 'bmicat'] = 1\n",
    "df.loc[(df.bmi > 18.4) & (df.bmi < 25), 'bmicat'] = 2\n",
    "df.loc[(df.bmi >= 25) & (df.bmi < 30), 'bmicat'] = 3\n",
    "df.loc[(df.bmi >= 30) & (df.bmi < 35), 'bmicat'] = 4\n",
    "df.loc[(df.bmi >= 35) & (df.bmi < 40), 'bmicat'] = 5\n",
    "df.loc[(df.bmi >= 40), 'bmicat'] = 6\n",
    "df.head()"
   ]
  },
  {
   "cell_type": "code",
   "execution_count": 14,
   "id": "702b1f30",
   "metadata": {
    "execution": {
     "iopub.execute_input": "2022-07-18T02:27:45.491100Z",
     "iopub.status.busy": "2022-07-18T02:27:45.490071Z",
     "iopub.status.idle": "2022-07-18T02:27:45.520127Z",
     "shell.execute_reply": "2022-07-18T02:27:45.519146Z"
    },
    "papermill": {
     "duration": 0.054542,
     "end_time": "2022-07-18T02:27:45.522431",
     "exception": false,
     "start_time": "2022-07-18T02:27:45.467889",
     "status": "completed"
    },
    "tags": []
   },
   "outputs": [
    {
     "data": {
      "text/html": [
       "<div>\n",
       "<style scoped>\n",
       "    .dataframe tbody tr th:only-of-type {\n",
       "        vertical-align: middle;\n",
       "    }\n",
       "\n",
       "    .dataframe tbody tr th {\n",
       "        vertical-align: top;\n",
       "    }\n",
       "\n",
       "    .dataframe thead th {\n",
       "        text-align: right;\n",
       "    }\n",
       "</style>\n",
       "<table border=\"1\" class=\"dataframe\">\n",
       "  <thead>\n",
       "    <tr style=\"text-align: right;\">\n",
       "      <th></th>\n",
       "      <th>gender</th>\n",
       "      <th>age</th>\n",
       "      <th>hypertension</th>\n",
       "      <th>heart_disease</th>\n",
       "      <th>ever_married</th>\n",
       "      <th>work_type</th>\n",
       "      <th>Residence_type</th>\n",
       "      <th>avg_glucose_level</th>\n",
       "      <th>bmi</th>\n",
       "      <th>smoking_status</th>\n",
       "      <th>stroke</th>\n",
       "      <th>glucat</th>\n",
       "      <th>bmicat</th>\n",
       "      <th>agecat</th>\n",
       "    </tr>\n",
       "  </thead>\n",
       "  <tbody>\n",
       "    <tr>\n",
       "      <th>0</th>\n",
       "      <td>Male</td>\n",
       "      <td>67.0</td>\n",
       "      <td>0</td>\n",
       "      <td>1</td>\n",
       "      <td>Yes</td>\n",
       "      <td>Private</td>\n",
       "      <td>Urban</td>\n",
       "      <td>228.69</td>\n",
       "      <td>36.6</td>\n",
       "      <td>formerly smoked</td>\n",
       "      <td>1</td>\n",
       "      <td>4.0</td>\n",
       "      <td>5.0</td>\n",
       "      <td>4.0</td>\n",
       "    </tr>\n",
       "    <tr>\n",
       "      <th>1</th>\n",
       "      <td>Male</td>\n",
       "      <td>80.0</td>\n",
       "      <td>0</td>\n",
       "      <td>1</td>\n",
       "      <td>Yes</td>\n",
       "      <td>Private</td>\n",
       "      <td>Rural</td>\n",
       "      <td>105.92</td>\n",
       "      <td>32.5</td>\n",
       "      <td>never smoked</td>\n",
       "      <td>1</td>\n",
       "      <td>3.0</td>\n",
       "      <td>4.0</td>\n",
       "      <td>5.0</td>\n",
       "    </tr>\n",
       "    <tr>\n",
       "      <th>2</th>\n",
       "      <td>Female</td>\n",
       "      <td>49.0</td>\n",
       "      <td>0</td>\n",
       "      <td>0</td>\n",
       "      <td>Yes</td>\n",
       "      <td>Private</td>\n",
       "      <td>Urban</td>\n",
       "      <td>171.23</td>\n",
       "      <td>34.4</td>\n",
       "      <td>smokes</td>\n",
       "      <td>1</td>\n",
       "      <td>4.0</td>\n",
       "      <td>4.0</td>\n",
       "      <td>2.0</td>\n",
       "    </tr>\n",
       "    <tr>\n",
       "      <th>3</th>\n",
       "      <td>Female</td>\n",
       "      <td>79.0</td>\n",
       "      <td>1</td>\n",
       "      <td>0</td>\n",
       "      <td>Yes</td>\n",
       "      <td>Self-employed</td>\n",
       "      <td>Rural</td>\n",
       "      <td>174.12</td>\n",
       "      <td>24.0</td>\n",
       "      <td>never smoked</td>\n",
       "      <td>1</td>\n",
       "      <td>4.0</td>\n",
       "      <td>2.0</td>\n",
       "      <td>5.0</td>\n",
       "    </tr>\n",
       "    <tr>\n",
       "      <th>4</th>\n",
       "      <td>Male</td>\n",
       "      <td>81.0</td>\n",
       "      <td>0</td>\n",
       "      <td>0</td>\n",
       "      <td>Yes</td>\n",
       "      <td>Private</td>\n",
       "      <td>Urban</td>\n",
       "      <td>186.21</td>\n",
       "      <td>29.0</td>\n",
       "      <td>formerly smoked</td>\n",
       "      <td>1</td>\n",
       "      <td>4.0</td>\n",
       "      <td>3.0</td>\n",
       "      <td>5.0</td>\n",
       "    </tr>\n",
       "  </tbody>\n",
       "</table>\n",
       "</div>"
      ],
      "text/plain": [
       "   gender   age  hypertension  heart_disease ever_married      work_type  \\\n",
       "0    Male  67.0             0              1          Yes        Private   \n",
       "1    Male  80.0             0              1          Yes        Private   \n",
       "2  Female  49.0             0              0          Yes        Private   \n",
       "3  Female  79.0             1              0          Yes  Self-employed   \n",
       "4    Male  81.0             0              0          Yes        Private   \n",
       "\n",
       "  Residence_type  avg_glucose_level   bmi   smoking_status  stroke  glucat  \\\n",
       "0          Urban             228.69  36.6  formerly smoked       1     4.0   \n",
       "1          Rural             105.92  32.5     never smoked       1     3.0   \n",
       "2          Urban             171.23  34.4           smokes       1     4.0   \n",
       "3          Rural             174.12  24.0     never smoked       1     4.0   \n",
       "4          Urban             186.21  29.0  formerly smoked       1     4.0   \n",
       "\n",
       "   bmicat  agecat  \n",
       "0     5.0     4.0  \n",
       "1     4.0     5.0  \n",
       "2     4.0     2.0  \n",
       "3     2.0     5.0  \n",
       "4     3.0     5.0  "
      ]
     },
     "execution_count": 14,
     "metadata": {},
     "output_type": "execute_result"
    }
   ],
   "source": [
    "df.loc[(df.age<=40), 'agecat'] = 1 # Because of it is adult disease.\n",
    "df.loc[(df.age > 40)&(df.age<=50), 'agecat'] = 2\n",
    "df.loc[(df.age > 50)&(df.age<=60), 'agecat'] = 3\n",
    "df.loc[(df.age > 60)&(df.age<=70), 'agecat'] = 4\n",
    "df.loc[(df.age > 70), 'agecat'] = 5\n",
    "df.head()"
   ]
  },
  {
   "cell_type": "code",
   "execution_count": 15,
   "id": "e06b2ad0",
   "metadata": {
    "execution": {
     "iopub.execute_input": "2022-07-18T02:27:45.567325Z",
     "iopub.status.busy": "2022-07-18T02:27:45.566638Z",
     "iopub.status.idle": "2022-07-18T02:27:45.579829Z",
     "shell.execute_reply": "2022-07-18T02:27:45.578705Z"
    },
    "papermill": {
     "duration": 0.038977,
     "end_time": "2022-07-18T02:27:45.582334",
     "exception": false,
     "start_time": "2022-07-18T02:27:45.543357",
     "status": "completed"
    },
    "tags": []
   },
   "outputs": [],
   "source": [
    "def num_summary(dataframe, numerical_col, plot=False):\n",
    "    quantiles = [0.05, 0.10, 0.20, 0.30, 0.40, 0.50, 0.60, 0.70, 0.80, 0.90, 0.95, 0.99]\n",
    "    print(\"\\t\\t\\t\"+\" Statistical summary of \"f\"{numerical_col}\")\n",
    "    print(\"\\t\\t\\t---------------------------------------------\")\n",
    "    print(pd.DataFrame(dataframe[numerical_col].describe(quantiles)).T, \"\\n\")\n",
    "\n",
    "    if plot:\n",
    "        dataframe[numerical_col].hist(bins=20)\n",
    "        plt.xlabel(numerical_col)\n",
    "        plt.title(numerical_col)\n",
    "        plt.show()\n",
    "def num_analyser_plot(df, num_col, target_col):\n",
    "    fig, axes = plt.subplots(1, 2, figsize=(12, 4))\n",
    "    \n",
    "    sns.histplot(df[num_col], kde=True, bins=30, ax=axes[0]);\n",
    "    axes[0].lines[0].set_color('green')\n",
    "    axes[0].set_title(f\"{num_col}\"+\" \"+\"Distrubition\")\n",
    "    axes[0].set_ylabel(\"Observation\")\n",
    "    \n",
    "    quantiles = [0, 0.25, 0.50, 0.75, 1]\n",
    "    num_df = df.copy()\n",
    "    num_df[f\"{num_col}\"+\"_CAT\"] = pd.qcut(df[num_col], q=quantiles) \n",
    "    df_2 = num_df.groupby(f\"{num_col}\"+\"_CAT\")[target_col].mean()\n",
    "    \n",
    "    sns.barplot(x=df_2.index, y=df_2.values);\n",
    "    axes[1].set_title(f\"The mean of the {target_col} feature in the stratification of {num_col} feature\")\n",
    "    axes[1].set_ylabel(f\"{target_col}\")\n",
    "\n",
    "    plt.show()"
   ]
  },
  {
   "cell_type": "code",
   "execution_count": 16,
   "id": "f7289034",
   "metadata": {
    "execution": {
     "iopub.execute_input": "2022-07-18T02:27:45.626667Z",
     "iopub.status.busy": "2022-07-18T02:27:45.625900Z",
     "iopub.status.idle": "2022-07-18T02:27:47.114180Z",
     "shell.execute_reply": "2022-07-18T02:27:47.112622Z"
    },
    "papermill": {
     "duration": 1.513395,
     "end_time": "2022-07-18T02:27:47.116556",
     "exception": false,
     "start_time": "2022-07-18T02:27:45.603161",
     "status": "completed"
    },
    "tags": []
   },
   "outputs": [
    {
     "name": "stdout",
     "output_type": "stream",
     "text": [
      "**********\n",
      "age\n",
      "\t\t\t Statistical summary of age\n",
      "\t\t\t---------------------------------------------\n",
      "      count       mean        std   min   5%   10%   20%   30%   40%   50%  \\\n",
      "age  4981.0  43.419859  22.662755  0.08  5.0  11.0  21.0  30.0  38.0  45.0   \n",
      "\n",
      "      60%   70%   80%   90%   95%   99%   max  \n",
      "age  52.0  58.0  65.0  75.0  79.0  82.0  82.0   \n",
      "\n"
     ]
    },
    {
     "data": {
      "image/png": "[encoded data removed]",
      "text/plain": [
       "<Figure size 864x288 with 2 Axes>"
      ]
     },
     "metadata": {
      "needs_background": "light"
     },
     "output_type": "display_data"
    },
    {
     "name": "stdout",
     "output_type": "stream",
     "text": [
      "**********\n",
      "**********\n",
      "avg_glucose_level\n",
      "\t\t\t Statistical summary of avg_glucose_level\n",
      "\t\t\t---------------------------------------------\n",
      "                    count        mean        std    min     5%    10%    20%  \\\n",
      "avg_glucose_level  4981.0  105.943562  45.075373  55.12  60.73  65.79  73.81   \n",
      "\n",
      "                     30%   40%    50%    60%     70%     80%     90%    95%  \\\n",
      "avg_glucose_level  80.05  85.6  91.85  98.73  108.32  123.83  191.47  216.0   \n",
      "\n",
      "                      99%     max  \n",
      "avg_glucose_level  240.82  271.74   \n",
      "\n"
     ]
    },
    {
     "data": {
      "image/png": "[encoded data removed]",
      "text/plain": [
       "<Figure size 864x288 with 2 Axes>"
      ]
     },
     "metadata": {
      "needs_background": "light"
     },
     "output_type": "display_data"
    },
    {
     "name": "stdout",
     "output_type": "stream",
     "text": [
      "**********\n",
      "**********\n",
      "bmi\n",
      "\t\t\t Statistical summary of bmi\n",
      "\t\t\t---------------------------------------------\n",
      "      count       mean       std   min    5%   10%   20%   30%   40%   50%  \\\n",
      "bmi  4981.0  28.498173  6.790464  14.0  17.9  19.8  22.6  24.7  26.5  28.1   \n",
      "\n",
      "      60%   70%   80%   90%   95%   99%   max  \n",
      "bmi  29.7  31.6  33.9  37.8  41.1  45.5  48.9   \n",
      "\n"
     ]
    },
    {
     "data": {
      "image/png": "[encoded data removed]",
      "text/plain": [
       "<Figure size 864x288 with 2 Axes>"
      ]
     },
     "metadata": {
      "needs_background": "light"
     },
     "output_type": "display_data"
    },
    {
     "name": "stdout",
     "output_type": "stream",
     "text": [
      "**********\n"
     ]
    }
   ],
   "source": [
    "# Findind and visaualization to quantiles\n",
    "for i in num_cols:\n",
    "    print(10*\"*\")\n",
    "    print(i)\n",
    "    num_summary(df, i)\n",
    "    num_analyser_plot(df, i, target)\n",
    "    print(10*\"*\")  "
   ]
  },
  {
   "cell_type": "code",
   "execution_count": 17,
   "id": "0b2e17f8",
   "metadata": {
    "execution": {
     "iopub.execute_input": "2022-07-18T02:27:47.166195Z",
     "iopub.status.busy": "2022-07-18T02:27:47.165688Z",
     "iopub.status.idle": "2022-07-18T02:27:47.207836Z",
     "shell.execute_reply": "2022-07-18T02:27:47.206161Z"
    },
    "papermill": {
     "duration": 0.071048,
     "end_time": "2022-07-18T02:27:47.211132",
     "exception": false,
     "start_time": "2022-07-18T02:27:47.140084",
     "status": "completed"
    },
    "tags": []
   },
   "outputs": [
    {
     "data": {
      "text/html": [
       "<div>\n",
       "<style scoped>\n",
       "    .dataframe tbody tr th:only-of-type {\n",
       "        vertical-align: middle;\n",
       "    }\n",
       "\n",
       "    .dataframe tbody tr th {\n",
       "        vertical-align: top;\n",
       "    }\n",
       "\n",
       "    .dataframe thead th {\n",
       "        text-align: right;\n",
       "    }\n",
       "</style>\n",
       "<table border=\"1\" class=\"dataframe\">\n",
       "  <thead>\n",
       "    <tr style=\"text-align: right;\">\n",
       "      <th></th>\n",
       "      <th>gender</th>\n",
       "      <th>age</th>\n",
       "      <th>hypertension</th>\n",
       "      <th>heart_disease</th>\n",
       "      <th>ever_married</th>\n",
       "      <th>work_type</th>\n",
       "      <th>Residence_type</th>\n",
       "      <th>avg_glucose_level</th>\n",
       "      <th>bmi</th>\n",
       "      <th>smoking_status</th>\n",
       "      <th>stroke</th>\n",
       "      <th>glucat</th>\n",
       "      <th>bmicat</th>\n",
       "      <th>agecat</th>\n",
       "      <th>bmi_qb</th>\n",
       "      <th>avg_glucose_level_qb</th>\n",
       "      <th>age_qb</th>\n",
       "    </tr>\n",
       "  </thead>\n",
       "  <tbody>\n",
       "    <tr>\n",
       "      <th>0</th>\n",
       "      <td>Male</td>\n",
       "      <td>67.0</td>\n",
       "      <td>0</td>\n",
       "      <td>1</td>\n",
       "      <td>Yes</td>\n",
       "      <td>Private</td>\n",
       "      <td>Urban</td>\n",
       "      <td>228.69</td>\n",
       "      <td>36.6</td>\n",
       "      <td>formerly smoked</td>\n",
       "      <td>1</td>\n",
       "      <td>4.0</td>\n",
       "      <td>5.0</td>\n",
       "      <td>4.0</td>\n",
       "      <td>q4</td>\n",
       "      <td>q4</td>\n",
       "      <td>q4</td>\n",
       "    </tr>\n",
       "    <tr>\n",
       "      <th>1</th>\n",
       "      <td>Male</td>\n",
       "      <td>80.0</td>\n",
       "      <td>0</td>\n",
       "      <td>1</td>\n",
       "      <td>Yes</td>\n",
       "      <td>Private</td>\n",
       "      <td>Rural</td>\n",
       "      <td>105.92</td>\n",
       "      <td>32.5</td>\n",
       "      <td>never smoked</td>\n",
       "      <td>1</td>\n",
       "      <td>3.0</td>\n",
       "      <td>4.0</td>\n",
       "      <td>5.0</td>\n",
       "      <td>q3</td>\n",
       "      <td>q3</td>\n",
       "      <td>q4</td>\n",
       "    </tr>\n",
       "    <tr>\n",
       "      <th>2</th>\n",
       "      <td>Female</td>\n",
       "      <td>49.0</td>\n",
       "      <td>0</td>\n",
       "      <td>0</td>\n",
       "      <td>Yes</td>\n",
       "      <td>Private</td>\n",
       "      <td>Urban</td>\n",
       "      <td>171.23</td>\n",
       "      <td>34.4</td>\n",
       "      <td>smokes</td>\n",
       "      <td>1</td>\n",
       "      <td>4.0</td>\n",
       "      <td>4.0</td>\n",
       "      <td>2.0</td>\n",
       "      <td>q4</td>\n",
       "      <td>q4</td>\n",
       "      <td>q3</td>\n",
       "    </tr>\n",
       "    <tr>\n",
       "      <th>3</th>\n",
       "      <td>Female</td>\n",
       "      <td>79.0</td>\n",
       "      <td>1</td>\n",
       "      <td>0</td>\n",
       "      <td>Yes</td>\n",
       "      <td>Self-employed</td>\n",
       "      <td>Rural</td>\n",
       "      <td>174.12</td>\n",
       "      <td>24.0</td>\n",
       "      <td>never smoked</td>\n",
       "      <td>1</td>\n",
       "      <td>4.0</td>\n",
       "      <td>2.0</td>\n",
       "      <td>5.0</td>\n",
       "      <td>q2</td>\n",
       "      <td>q4</td>\n",
       "      <td>q4</td>\n",
       "    </tr>\n",
       "    <tr>\n",
       "      <th>4</th>\n",
       "      <td>Male</td>\n",
       "      <td>81.0</td>\n",
       "      <td>0</td>\n",
       "      <td>0</td>\n",
       "      <td>Yes</td>\n",
       "      <td>Private</td>\n",
       "      <td>Urban</td>\n",
       "      <td>186.21</td>\n",
       "      <td>29.0</td>\n",
       "      <td>formerly smoked</td>\n",
       "      <td>1</td>\n",
       "      <td>4.0</td>\n",
       "      <td>3.0</td>\n",
       "      <td>5.0</td>\n",
       "      <td>q3</td>\n",
       "      <td>q4</td>\n",
       "      <td>q4</td>\n",
       "    </tr>\n",
       "  </tbody>\n",
       "</table>\n",
       "</div>"
      ],
      "text/plain": [
       "   gender   age  hypertension  heart_disease ever_married      work_type  \\\n",
       "0    Male  67.0             0              1          Yes        Private   \n",
       "1    Male  80.0             0              1          Yes        Private   \n",
       "2  Female  49.0             0              0          Yes        Private   \n",
       "3  Female  79.0             1              0          Yes  Self-employed   \n",
       "4    Male  81.0             0              0          Yes        Private   \n",
       "\n",
       "  Residence_type  avg_glucose_level   bmi   smoking_status  stroke  glucat  \\\n",
       "0          Urban             228.69  36.6  formerly smoked       1     4.0   \n",
       "1          Rural             105.92  32.5     never smoked       1     3.0   \n",
       "2          Urban             171.23  34.4           smokes       1     4.0   \n",
       "3          Rural             174.12  24.0     never smoked       1     4.0   \n",
       "4          Urban             186.21  29.0  formerly smoked       1     4.0   \n",
       "\n",
       "   bmicat  agecat bmi_qb avg_glucose_level_qb age_qb  \n",
       "0     5.0     4.0     q4                   q4     q4  \n",
       "1     4.0     5.0     q3                   q3     q4  \n",
       "2     4.0     2.0     q4                   q4     q3  \n",
       "3     2.0     5.0     q2                   q4     q4  \n",
       "4     3.0     5.0     q3                   q4     q4  "
      ]
     },
     "execution_count": 17,
     "metadata": {},
     "output_type": "execute_result"
    }
   ],
   "source": [
    "# Quantile Stratification\n",
    "_names = [\"q1\",\"q2\",\"q3\",\"q4\"]\n",
    "bin_of_bmi = [13.99,23.7,28.1,32.6,48.9]\n",
    "df[\"bmi\"+str(\"_qb\")] = pd.cut(df[\"bmi\"],bin_of_bmi,labels=_names,include_lowest=True)\n",
    "bin_of_glucose = [55.11,77.23,91.85,113.86,271.74]\n",
    "df[\"avg_glucose_level\"+str(\"_qb\")] = pd.cut(df[\"avg_glucose_level\"],bin_of_glucose,labels=_names,include_lowest=True)\n",
    "bin_of_age = [0,25,45,61,82]\n",
    "df[\"age\"+str(\"_qb\")] = pd.cut(df[\"age\"],bin_of_age,labels=_names,include_lowest=True)\n",
    "df.head()\n"
   ]
  },
  {
   "cell_type": "code",
   "execution_count": 18,
   "id": "69699e9e",
   "metadata": {
    "execution": {
     "iopub.execute_input": "2022-07-18T02:27:47.261859Z",
     "iopub.status.busy": "2022-07-18T02:27:47.260952Z",
     "iopub.status.idle": "2022-07-18T02:27:47.305613Z",
     "shell.execute_reply": "2022-07-18T02:27:47.304365Z"
    },
    "papermill": {
     "duration": 0.073114,
     "end_time": "2022-07-18T02:27:47.308337",
     "exception": false,
     "start_time": "2022-07-18T02:27:47.235223",
     "status": "completed"
    },
    "tags": []
   },
   "outputs": [
    {
     "data": {
      "text/html": [
       "<div>\n",
       "<style scoped>\n",
       "    .dataframe tbody tr th:only-of-type {\n",
       "        vertical-align: middle;\n",
       "    }\n",
       "\n",
       "    .dataframe tbody tr th {\n",
       "        vertical-align: top;\n",
       "    }\n",
       "\n",
       "    .dataframe thead th {\n",
       "        text-align: right;\n",
       "    }\n",
       "</style>\n",
       "<table border=\"1\" class=\"dataframe\">\n",
       "  <thead>\n",
       "    <tr style=\"text-align: right;\">\n",
       "      <th></th>\n",
       "      <th>gender</th>\n",
       "      <th>age</th>\n",
       "      <th>hypertension</th>\n",
       "      <th>heart_disease</th>\n",
       "      <th>ever_married</th>\n",
       "      <th>work_type</th>\n",
       "      <th>Residence_type</th>\n",
       "      <th>avg_glucose_level</th>\n",
       "      <th>bmi</th>\n",
       "      <th>smoking_status</th>\n",
       "      <th>stroke</th>\n",
       "      <th>glucat</th>\n",
       "      <th>bmicat</th>\n",
       "      <th>agecat</th>\n",
       "      <th>bmi_qb</th>\n",
       "      <th>avg_glucose_level_qb</th>\n",
       "      <th>age_qb</th>\n",
       "      <th>age_binned</th>\n",
       "      <th>avg_glucose_level_binned</th>\n",
       "      <th>bmi_binned</th>\n",
       "    </tr>\n",
       "  </thead>\n",
       "  <tbody>\n",
       "    <tr>\n",
       "      <th>0</th>\n",
       "      <td>Male</td>\n",
       "      <td>67.0</td>\n",
       "      <td>0</td>\n",
       "      <td>1</td>\n",
       "      <td>Yes</td>\n",
       "      <td>Private</td>\n",
       "      <td>Urban</td>\n",
       "      <td>228.69</td>\n",
       "      <td>36.6</td>\n",
       "      <td>formerly smoked</td>\n",
       "      <td>1</td>\n",
       "      <td>4.0</td>\n",
       "      <td>5.0</td>\n",
       "      <td>4.0</td>\n",
       "      <td>q4</td>\n",
       "      <td>q4</td>\n",
       "      <td>q4</td>\n",
       "      <td>high</td>\n",
       "      <td>high</td>\n",
       "      <td>high_normal</td>\n",
       "    </tr>\n",
       "    <tr>\n",
       "      <th>1</th>\n",
       "      <td>Male</td>\n",
       "      <td>80.0</td>\n",
       "      <td>0</td>\n",
       "      <td>1</td>\n",
       "      <td>Yes</td>\n",
       "      <td>Private</td>\n",
       "      <td>Rural</td>\n",
       "      <td>105.92</td>\n",
       "      <td>32.5</td>\n",
       "      <td>never smoked</td>\n",
       "      <td>1</td>\n",
       "      <td>3.0</td>\n",
       "      <td>4.0</td>\n",
       "      <td>5.0</td>\n",
       "      <td>q3</td>\n",
       "      <td>q3</td>\n",
       "      <td>q4</td>\n",
       "      <td>high</td>\n",
       "      <td>low</td>\n",
       "      <td>high_normal</td>\n",
       "    </tr>\n",
       "    <tr>\n",
       "      <th>2</th>\n",
       "      <td>Female</td>\n",
       "      <td>49.0</td>\n",
       "      <td>0</td>\n",
       "      <td>0</td>\n",
       "      <td>Yes</td>\n",
       "      <td>Private</td>\n",
       "      <td>Urban</td>\n",
       "      <td>171.23</td>\n",
       "      <td>34.4</td>\n",
       "      <td>smokes</td>\n",
       "      <td>1</td>\n",
       "      <td>4.0</td>\n",
       "      <td>4.0</td>\n",
       "      <td>2.0</td>\n",
       "      <td>q4</td>\n",
       "      <td>q4</td>\n",
       "      <td>q3</td>\n",
       "      <td>high_normal</td>\n",
       "      <td>high_normal</td>\n",
       "      <td>high_normal</td>\n",
       "    </tr>\n",
       "    <tr>\n",
       "      <th>3</th>\n",
       "      <td>Female</td>\n",
       "      <td>79.0</td>\n",
       "      <td>1</td>\n",
       "      <td>0</td>\n",
       "      <td>Yes</td>\n",
       "      <td>Self-employed</td>\n",
       "      <td>Rural</td>\n",
       "      <td>174.12</td>\n",
       "      <td>24.0</td>\n",
       "      <td>never smoked</td>\n",
       "      <td>1</td>\n",
       "      <td>4.0</td>\n",
       "      <td>2.0</td>\n",
       "      <td>5.0</td>\n",
       "      <td>q2</td>\n",
       "      <td>q4</td>\n",
       "      <td>q4</td>\n",
       "      <td>high</td>\n",
       "      <td>high_normal</td>\n",
       "      <td>low_normal</td>\n",
       "    </tr>\n",
       "    <tr>\n",
       "      <th>4</th>\n",
       "      <td>Male</td>\n",
       "      <td>81.0</td>\n",
       "      <td>0</td>\n",
       "      <td>0</td>\n",
       "      <td>Yes</td>\n",
       "      <td>Private</td>\n",
       "      <td>Urban</td>\n",
       "      <td>186.21</td>\n",
       "      <td>29.0</td>\n",
       "      <td>formerly smoked</td>\n",
       "      <td>1</td>\n",
       "      <td>4.0</td>\n",
       "      <td>3.0</td>\n",
       "      <td>5.0</td>\n",
       "      <td>q3</td>\n",
       "      <td>q4</td>\n",
       "      <td>q4</td>\n",
       "      <td>high</td>\n",
       "      <td>high_normal</td>\n",
       "      <td>low_normal</td>\n",
       "    </tr>\n",
       "  </tbody>\n",
       "</table>\n",
       "</div>"
      ],
      "text/plain": [
       "   gender   age  hypertension  heart_disease ever_married      work_type  \\\n",
       "0    Male  67.0             0              1          Yes        Private   \n",
       "1    Male  80.0             0              1          Yes        Private   \n",
       "2  Female  49.0             0              0          Yes        Private   \n",
       "3  Female  79.0             1              0          Yes  Self-employed   \n",
       "4    Male  81.0             0              0          Yes        Private   \n",
       "\n",
       "  Residence_type  avg_glucose_level   bmi   smoking_status  stroke  glucat  \\\n",
       "0          Urban             228.69  36.6  formerly smoked       1     4.0   \n",
       "1          Rural             105.92  32.5     never smoked       1     3.0   \n",
       "2          Urban             171.23  34.4           smokes       1     4.0   \n",
       "3          Rural             174.12  24.0     never smoked       1     4.0   \n",
       "4          Urban             186.21  29.0  formerly smoked       1     4.0   \n",
       "\n",
       "   bmicat  agecat bmi_qb avg_glucose_level_qb age_qb   age_binned  \\\n",
       "0     5.0     4.0     q4                   q4     q4         high   \n",
       "1     4.0     5.0     q3                   q3     q4         high   \n",
       "2     4.0     2.0     q4                   q4     q3  high_normal   \n",
       "3     2.0     5.0     q2                   q4     q4         high   \n",
       "4     3.0     5.0     q3                   q4     q4         high   \n",
       "\n",
       "  avg_glucose_level_binned   bmi_binned  \n",
       "0                     high  high_normal  \n",
       "1                      low  high_normal  \n",
       "2              high_normal  high_normal  \n",
       "3              high_normal   low_normal  \n",
       "4              high_normal   low_normal  "
      ]
     },
     "execution_count": 18,
     "metadata": {},
     "output_type": "execute_result"
    }
   ],
   "source": [
    "# uniform splittingdef binning_df(num_cols):\n",
    "\n",
    "def binning_df(num_cols):\n",
    "    for i in num_cols:\n",
    "        bins = np.linspace(min(df[i]),max(df[i]),5)\n",
    "        _names = [\"low\",\"low_normal\",\"high_normal\",\"high\"]\n",
    "        df[i+str(\"_binned\")] = pd.cut(df[i],bins,labels=_names,include_lowest=True)\n",
    "    return df\n",
    "binning_df(num_cols)\n",
    "df.head()"
   ]
  },
  {
   "cell_type": "code",
   "execution_count": 19,
   "id": "275e9105",
   "metadata": {
    "execution": {
     "iopub.execute_input": "2022-07-18T02:27:47.361845Z",
     "iopub.status.busy": "2022-07-18T02:27:47.360962Z",
     "iopub.status.idle": "2022-07-18T02:27:47.416108Z",
     "shell.execute_reply": "2022-07-18T02:27:47.414865Z"
    },
    "papermill": {
     "duration": 0.085909,
     "end_time": "2022-07-18T02:27:47.418661",
     "exception": false,
     "start_time": "2022-07-18T02:27:47.332752",
     "status": "completed"
    },
    "tags": []
   },
   "outputs": [
    {
     "data": {
      "text/html": [
       "<div>\n",
       "<style scoped>\n",
       "    .dataframe tbody tr th:only-of-type {\n",
       "        vertical-align: middle;\n",
       "    }\n",
       "\n",
       "    .dataframe tbody tr th {\n",
       "        vertical-align: top;\n",
       "    }\n",
       "\n",
       "    .dataframe thead th {\n",
       "        text-align: right;\n",
       "    }\n",
       "</style>\n",
       "<table border=\"1\" class=\"dataframe\">\n",
       "  <thead>\n",
       "    <tr style=\"text-align: right;\">\n",
       "      <th></th>\n",
       "      <th>gender</th>\n",
       "      <th>age</th>\n",
       "      <th>hypertension</th>\n",
       "      <th>heart_disease</th>\n",
       "      <th>ever_married</th>\n",
       "      <th>work_type</th>\n",
       "      <th>Residence_type</th>\n",
       "      <th>avg_glucose_level</th>\n",
       "      <th>bmi</th>\n",
       "      <th>smoking_status</th>\n",
       "      <th>...</th>\n",
       "      <th>agecat</th>\n",
       "      <th>bmi_qb</th>\n",
       "      <th>avg_glucose_level_qb</th>\n",
       "      <th>age_qb</th>\n",
       "      <th>age_binned</th>\n",
       "      <th>avg_glucose_level_binned</th>\n",
       "      <th>bmi_binned</th>\n",
       "      <th>age_cart</th>\n",
       "      <th>glu_cart</th>\n",
       "      <th>bmi_cart</th>\n",
       "    </tr>\n",
       "  </thead>\n",
       "  <tbody>\n",
       "    <tr>\n",
       "      <th>0</th>\n",
       "      <td>Male</td>\n",
       "      <td>67.0</td>\n",
       "      <td>0</td>\n",
       "      <td>1</td>\n",
       "      <td>Yes</td>\n",
       "      <td>Private</td>\n",
       "      <td>Urban</td>\n",
       "      <td>228.69</td>\n",
       "      <td>36.6</td>\n",
       "      <td>formerly smoked</td>\n",
       "      <td>...</td>\n",
       "      <td>4.0</td>\n",
       "      <td>q4</td>\n",
       "      <td>q4</td>\n",
       "      <td>q4</td>\n",
       "      <td>high</td>\n",
       "      <td>high</td>\n",
       "      <td>high_normal</td>\n",
       "      <td>4.0</td>\n",
       "      <td>4.0</td>\n",
       "      <td>3.0</td>\n",
       "    </tr>\n",
       "    <tr>\n",
       "      <th>1</th>\n",
       "      <td>Male</td>\n",
       "      <td>80.0</td>\n",
       "      <td>0</td>\n",
       "      <td>1</td>\n",
       "      <td>Yes</td>\n",
       "      <td>Private</td>\n",
       "      <td>Rural</td>\n",
       "      <td>105.92</td>\n",
       "      <td>32.5</td>\n",
       "      <td>never smoked</td>\n",
       "      <td>...</td>\n",
       "      <td>5.0</td>\n",
       "      <td>q3</td>\n",
       "      <td>q3</td>\n",
       "      <td>q4</td>\n",
       "      <td>high</td>\n",
       "      <td>low</td>\n",
       "      <td>high_normal</td>\n",
       "      <td>5.0</td>\n",
       "      <td>2.0</td>\n",
       "      <td>3.0</td>\n",
       "    </tr>\n",
       "    <tr>\n",
       "      <th>2</th>\n",
       "      <td>Female</td>\n",
       "      <td>49.0</td>\n",
       "      <td>0</td>\n",
       "      <td>0</td>\n",
       "      <td>Yes</td>\n",
       "      <td>Private</td>\n",
       "      <td>Urban</td>\n",
       "      <td>171.23</td>\n",
       "      <td>34.4</td>\n",
       "      <td>smokes</td>\n",
       "      <td>...</td>\n",
       "      <td>2.0</td>\n",
       "      <td>q4</td>\n",
       "      <td>q4</td>\n",
       "      <td>q3</td>\n",
       "      <td>high_normal</td>\n",
       "      <td>high_normal</td>\n",
       "      <td>high_normal</td>\n",
       "      <td>3.0</td>\n",
       "      <td>2.0</td>\n",
       "      <td>3.0</td>\n",
       "    </tr>\n",
       "    <tr>\n",
       "      <th>3</th>\n",
       "      <td>Female</td>\n",
       "      <td>79.0</td>\n",
       "      <td>1</td>\n",
       "      <td>0</td>\n",
       "      <td>Yes</td>\n",
       "      <td>Self-employed</td>\n",
       "      <td>Rural</td>\n",
       "      <td>174.12</td>\n",
       "      <td>24.0</td>\n",
       "      <td>never smoked</td>\n",
       "      <td>...</td>\n",
       "      <td>5.0</td>\n",
       "      <td>q2</td>\n",
       "      <td>q4</td>\n",
       "      <td>q4</td>\n",
       "      <td>high</td>\n",
       "      <td>high_normal</td>\n",
       "      <td>low_normal</td>\n",
       "      <td>5.0</td>\n",
       "      <td>2.0</td>\n",
       "      <td>1.0</td>\n",
       "    </tr>\n",
       "    <tr>\n",
       "      <th>4</th>\n",
       "      <td>Male</td>\n",
       "      <td>81.0</td>\n",
       "      <td>0</td>\n",
       "      <td>0</td>\n",
       "      <td>Yes</td>\n",
       "      <td>Private</td>\n",
       "      <td>Urban</td>\n",
       "      <td>186.21</td>\n",
       "      <td>29.0</td>\n",
       "      <td>formerly smoked</td>\n",
       "      <td>...</td>\n",
       "      <td>5.0</td>\n",
       "      <td>q3</td>\n",
       "      <td>q4</td>\n",
       "      <td>q4</td>\n",
       "      <td>high</td>\n",
       "      <td>high_normal</td>\n",
       "      <td>low_normal</td>\n",
       "      <td>5.0</td>\n",
       "      <td>3.0</td>\n",
       "      <td>2.0</td>\n",
       "    </tr>\n",
       "  </tbody>\n",
       "</table>\n",
       "<p>5 rows × 23 columns</p>\n",
       "</div>"
      ],
      "text/plain": [
       "   gender   age  hypertension  heart_disease ever_married      work_type  \\\n",
       "0    Male  67.0             0              1          Yes        Private   \n",
       "1    Male  80.0             0              1          Yes        Private   \n",
       "2  Female  49.0             0              0          Yes        Private   \n",
       "3  Female  79.0             1              0          Yes  Self-employed   \n",
       "4    Male  81.0             0              0          Yes        Private   \n",
       "\n",
       "  Residence_type  avg_glucose_level   bmi   smoking_status  ...  agecat  \\\n",
       "0          Urban             228.69  36.6  formerly smoked  ...     4.0   \n",
       "1          Rural             105.92  32.5     never smoked  ...     5.0   \n",
       "2          Urban             171.23  34.4           smokes  ...     2.0   \n",
       "3          Rural             174.12  24.0     never smoked  ...     5.0   \n",
       "4          Urban             186.21  29.0  formerly smoked  ...     5.0   \n",
       "\n",
       "   bmi_qb  avg_glucose_level_qb  age_qb   age_binned avg_glucose_level_binned  \\\n",
       "0      q4                    q4      q4         high                     high   \n",
       "1      q3                    q3      q4         high                      low   \n",
       "2      q4                    q4      q3  high_normal              high_normal   \n",
       "3      q2                    q4      q4         high              high_normal   \n",
       "4      q3                    q4      q4         high              high_normal   \n",
       "\n",
       "    bmi_binned age_cart glu_cart bmi_cart  \n",
       "0  high_normal      4.0      4.0      3.0  \n",
       "1  high_normal      5.0      2.0      3.0  \n",
       "2  high_normal      3.0      2.0      3.0  \n",
       "3   low_normal      5.0      2.0      1.0  \n",
       "4   low_normal      5.0      3.0      2.0  \n",
       "\n",
       "[5 rows x 23 columns]"
      ]
     },
     "execution_count": 19,
     "metadata": {},
     "output_type": "execute_result"
    }
   ],
   "source": [
    "# CART Stratification\n",
    "# I finded threshold by CART algo.\n",
    "# https://www.kaggle.com/code/zzettrkalpakbal/cart-analysis-for-stroke-prediction-acc-94-9\n",
    "\n",
    "df.loc[(df.age>73.5),\"age_cart\"] = 5\n",
    "df.loc[(df.age<=73.5)&(df.age>53.5),\"age_cart\"] = 4\n",
    "df.loc[(df.age<=53.5)&(df.age>37.5),\"age_cart\"] = 3\n",
    "df.loc[(df.age<=37.5)&(df.age>2),\"age_cart\"] = 2\n",
    "df.loc[(df.age<=2),\"age_cart\"] = 1\n",
    "df.loc[(df.avg_glucose_level>=213.47),\"glu_cart\"] = 4\n",
    "df.loc[(df.avg_glucose_level<213.47)&(df.avg_glucose_level>=180.86),\"glu_cart\"] = 3\n",
    "df.loc[(df.avg_glucose_level<180.86)&(df.avg_glucose_level>=70.44),\"glu_cart\"] = 2\n",
    "df.loc[(df.avg_glucose_level<70.44),\"glu_cart\"] = 1\n",
    "df.loc[(df.bmi>=39.15),\"bmi_cart\"] = 4\n",
    "df.loc[(df.bmi<39.15)&(df.bmi>=31.95),\"bmi_cart\"] = 3\n",
    "df.loc[(df.bmi<31.95)&(df.bmi>=28.35),\"bmi_cart\"] = 2\n",
    "df.loc[(df.bmi<28.35),\"bmi_cart\"] = 1\n",
    "df.head()"
   ]
  },
  {
   "cell_type": "markdown",
   "id": "b5ca246c",
   "metadata": {
    "papermill": {
     "duration": 0.024493,
     "end_time": "2022-07-18T02:27:47.468131",
     "exception": false,
     "start_time": "2022-07-18T02:27:47.443638",
     "status": "completed"
    },
    "tags": []
   },
   "source": [
    "### Please suggest another methods of categorization, then I will updated notebook."
   ]
  },
  {
   "cell_type": "code",
   "execution_count": 20,
   "id": "6f8fa113",
   "metadata": {
    "execution": {
     "iopub.execute_input": "2022-07-18T02:27:47.521314Z",
     "iopub.status.busy": "2022-07-18T02:27:47.520107Z",
     "iopub.status.idle": "2022-07-18T02:27:47.525952Z",
     "shell.execute_reply": "2022-07-18T02:27:47.524910Z"
    },
    "papermill": {
     "duration": 0.036841,
     "end_time": "2022-07-18T02:27:47.529633",
     "exception": false,
     "start_time": "2022-07-18T02:27:47.492792",
     "status": "completed"
    },
    "tags": []
   },
   "outputs": [],
   "source": [
    "#Preparing for PyCaret"
   ]
  },
  {
   "cell_type": "code",
   "execution_count": 21,
   "id": "61d84cc1",
   "metadata": {
    "execution": {
     "iopub.execute_input": "2022-07-18T02:27:47.584466Z",
     "iopub.status.busy": "2022-07-18T02:27:47.583581Z",
     "iopub.status.idle": "2022-07-18T02:27:47.589236Z",
     "shell.execute_reply": "2022-07-18T02:27:47.588342Z"
    },
    "papermill": {
     "duration": 0.036278,
     "end_time": "2022-07-18T02:27:47.591909",
     "exception": false,
     "start_time": "2022-07-18T02:27:47.555631",
     "status": "completed"
    },
    "tags": []
   },
   "outputs": [],
   "source": [
    "# pycaret libraries have some limitation in virtual operating system, \n",
    "# but it is in the your local already works properly  don't worry about that.\n",
    "#!pip install --use-deprecated=legacy-resolver pycaret[full] --ignore-installed llvmlite\n",
    "#!pip install markupsafe==2.0.1\n",
    "#!pip install numba==0.53 --ignore-installed llvmlite\n",
    "## RESTART NOTEBOOK from here and close above installation codes\n",
    "#from pycaret.classification import *"
   ]
  },
  {
   "cell_type": "code",
   "execution_count": 22,
   "id": "96925cd5",
   "metadata": {
    "execution": {
     "iopub.execute_input": "2022-07-18T02:27:47.645436Z",
     "iopub.status.busy": "2022-07-18T02:27:47.644569Z",
     "iopub.status.idle": "2022-07-18T02:27:47.652980Z",
     "shell.execute_reply": "2022-07-18T02:27:47.651977Z"
    },
    "papermill": {
     "duration": 0.038755,
     "end_time": "2022-07-18T02:27:47.655690",
     "exception": false,
     "start_time": "2022-07-18T02:27:47.616935",
     "status": "completed"
    },
    "tags": []
   },
   "outputs": [],
   "source": [
    "df_raw = df[['gender', 'age', 'hypertension', 'heart_disease', 'ever_married',\n",
    "       'work_type', 'Residence_type', 'avg_glucose_level', 'bmi',\n",
    "       'smoking_status', 'stroke']]"
   ]
  },
  {
   "cell_type": "code",
   "execution_count": 23,
   "id": "1fe79310",
   "metadata": {
    "execution": {
     "iopub.execute_input": "2022-07-18T02:27:47.722668Z",
     "iopub.status.busy": "2022-07-18T02:27:47.721765Z",
     "iopub.status.idle": "2022-07-18T02:27:47.728035Z",
     "shell.execute_reply": "2022-07-18T02:27:47.727153Z"
    },
    "papermill": {
     "duration": 0.047755,
     "end_time": "2022-07-18T02:27:47.730438",
     "exception": false,
     "start_time": "2022-07-18T02:27:47.682683",
     "status": "completed"
    },
    "tags": []
   },
   "outputs": [],
   "source": [
    "# If we doesnt take columns to Pycaret, pycaret definite the column type itself.\n",
    "df_raw_cat = ['gender', 'hypertension', 'heart_disease', 'ever_married',\n",
    "       'work_type', 'Residence_type', 'smoking_status']\n",
    "df_raw_num = [\"age\",\"avg_glucose_level\",\"bmi\"]\n",
    "target = \"stroke\""
   ]
  },
  {
   "cell_type": "code",
   "execution_count": 24,
   "id": "7afd9814",
   "metadata": {
    "execution": {
     "iopub.execute_input": "2022-07-18T02:27:47.783257Z",
     "iopub.status.busy": "2022-07-18T02:27:47.782355Z",
     "iopub.status.idle": "2022-07-18T02:27:47.790079Z",
     "shell.execute_reply": "2022-07-18T02:27:47.789108Z"
    },
    "papermill": {
     "duration": 0.037661,
     "end_time": "2022-07-18T02:27:47.792786",
     "exception": false,
     "start_time": "2022-07-18T02:27:47.755125",
     "status": "completed"
    },
    "tags": []
   },
   "outputs": [],
   "source": [
    "df_medical = df[['gender', 'hypertension', 'heart_disease', 'ever_married',\n",
    "       'work_type', 'Residence_type', 'smoking_status', 'stroke', 'glucat', 'bmicat', 'agecat']]"
   ]
  },
  {
   "cell_type": "code",
   "execution_count": 25,
   "id": "92be181d",
   "metadata": {
    "execution": {
     "iopub.execute_input": "2022-07-18T02:27:47.847029Z",
     "iopub.status.busy": "2022-07-18T02:27:47.846010Z",
     "iopub.status.idle": "2022-07-18T02:27:47.853827Z",
     "shell.execute_reply": "2022-07-18T02:27:47.852805Z"
    },
    "papermill": {
     "duration": 0.037575,
     "end_time": "2022-07-18T02:27:47.856622",
     "exception": false,
     "start_time": "2022-07-18T02:27:47.819047",
     "status": "completed"
    },
    "tags": []
   },
   "outputs": [],
   "source": [
    "df_quantile = df[['gender', 'hypertension', 'heart_disease', 'ever_married',\n",
    "       'work_type', 'Residence_type', 'smoking_status', 'stroke', 'bmi_qb',\n",
    "       'avg_glucose_level_qb', 'age_qb']]"
   ]
  },
  {
   "cell_type": "code",
   "execution_count": 26,
   "id": "b5c433b5",
   "metadata": {
    "execution": {
     "iopub.execute_input": "2022-07-18T02:27:47.909639Z",
     "iopub.status.busy": "2022-07-18T02:27:47.908927Z",
     "iopub.status.idle": "2022-07-18T02:27:47.915505Z",
     "shell.execute_reply": "2022-07-18T02:27:47.914338Z"
    },
    "papermill": {
     "duration": 0.036965,
     "end_time": "2022-07-18T02:27:47.918287",
     "exception": false,
     "start_time": "2022-07-18T02:27:47.881322",
     "status": "completed"
    },
    "tags": []
   },
   "outputs": [],
   "source": [
    "df_bins = df[['gender', 'hypertension', 'heart_disease', 'ever_married',\n",
    "       'work_type', 'Residence_type', 'smoking_status', 'stroke', 'age_binned',\n",
    "       'avg_glucose_level_binned', 'bmi_binned']]"
   ]
  },
  {
   "cell_type": "code",
   "execution_count": 27,
   "id": "d5881c3b",
   "metadata": {
    "execution": {
     "iopub.execute_input": "2022-07-18T02:27:47.968921Z",
     "iopub.status.busy": "2022-07-18T02:27:47.968168Z",
     "iopub.status.idle": "2022-07-18T02:27:47.974868Z",
     "shell.execute_reply": "2022-07-18T02:27:47.974044Z"
    },
    "papermill": {
     "duration": 0.034495,
     "end_time": "2022-07-18T02:27:47.977127",
     "exception": false,
     "start_time": "2022-07-18T02:27:47.942632",
     "status": "completed"
    },
    "tags": []
   },
   "outputs": [],
   "source": [
    "df_cart = df[['gender', 'hypertension', 'heart_disease', 'ever_married',\n",
    "       'work_type', 'Residence_type', 'smoking_status', 'stroke', 'age_cart', 'glu_cart',\n",
    "       'bmi_cart']]"
   ]
  },
  {
   "cell_type": "code",
   "execution_count": 28,
   "id": "4d55ca27",
   "metadata": {
    "execution": {
     "iopub.execute_input": "2022-07-18T02:27:48.028649Z",
     "iopub.status.busy": "2022-07-18T02:27:48.027871Z",
     "iopub.status.idle": "2022-07-18T02:27:48.035588Z",
     "shell.execute_reply": "2022-07-18T02:27:48.034591Z"
    },
    "papermill": {
     "duration": 0.036909,
     "end_time": "2022-07-18T02:27:48.037968",
     "exception": false,
     "start_time": "2022-07-18T02:27:48.001059",
     "status": "completed"
    },
    "tags": []
   },
   "outputs": [],
   "source": [
    "df_medical_cat = ['gender', 'hypertension', 'heart_disease', 'ever_married', 'work_type',\n",
    "       'Residence_type', 'smoking_status', 'glucat', 'bmicat','agecat']\n",
    "df_bins_cat = ['gender', 'hypertension', 'heart_disease', 'ever_married', 'work_type',\n",
    "       'Residence_type', 'smoking_status', 'age_binned','avg_glucose_level_binned', 'bmi_binned']\n",
    "df_quantile_cat = ['gender', 'hypertension', 'heart_disease', 'ever_married', 'work_type',\n",
    "       'Residence_type', 'smoking_status','bmi_qb', 'avg_glucose_level_qb', 'age_qb']\n",
    "df_cart_cat = ['gender', 'hypertension', 'heart_disease', 'ever_married',\n",
    "       'work_type', 'Residence_type', 'smoking_status', 'age_cart', 'glu_cart',\n",
    "       'bmi_cart']"
   ]
  },
  {
   "cell_type": "code",
   "execution_count": 29,
   "id": "dfb8bc7b",
   "metadata": {
    "execution": {
     "iopub.execute_input": "2022-07-18T02:27:48.090014Z",
     "iopub.status.busy": "2022-07-18T02:27:48.089214Z",
     "iopub.status.idle": "2022-07-18T02:27:48.094707Z",
     "shell.execute_reply": "2022-07-18T02:27:48.093670Z"
    },
    "papermill": {
     "duration": 0.03448,
     "end_time": "2022-07-18T02:27:48.096933",
     "exception": false,
     "start_time": "2022-07-18T02:27:48.062453",
     "status": "completed"
    },
    "tags": []
   },
   "outputs": [],
   "source": [
    "#s = setup(data = df_cart,\n",
    "#          categorical_features = df_cart_cat,\n",
    "#          session_id=42,\n",
    "#          target=target,\n",
    "#          train_size=0.8,\n",
    "#          fold_strategy='stratifiedkfold',\n",
    "#          fold=10, \n",
    "#          fold_shuffle=True,\n",
    "#          silent=True,\n",
    "#          ignore_low_variance=True,\n",
    "#          remove_multicollinearity = True,\n",
    "#          normalize = True,\n",
    "#          normalize_method = 'robust',\n",
    "#          remove_outliers=True)\n",
    "## For the best knowledge : https://pycaret.readthedocs.io/en/latest/api/classification.html\n",
    "## API of pycaret really clear and understandable"
   ]
  },
  {
   "cell_type": "code",
   "execution_count": 30,
   "id": "092a9006",
   "metadata": {
    "execution": {
     "iopub.execute_input": "2022-07-18T02:27:48.147474Z",
     "iopub.status.busy": "2022-07-18T02:27:48.146739Z",
     "iopub.status.idle": "2022-07-18T02:27:48.152111Z",
     "shell.execute_reply": "2022-07-18T02:27:48.150819Z"
    },
    "papermill": {
     "duration": 0.03352,
     "end_time": "2022-07-18T02:27:48.154548",
     "exception": false,
     "start_time": "2022-07-18T02:27:48.121028",
     "status": "completed"
    },
    "tags": []
   },
   "outputs": [],
   "source": [
    "## For comparing model\n",
    "#top_models = compare_models(n_select=5,cross_validation=True,fold=10)"
   ]
  },
  {
   "cell_type": "code",
   "execution_count": 31,
   "id": "b459ada0",
   "metadata": {
    "execution": {
     "iopub.execute_input": "2022-07-18T02:27:48.204665Z",
     "iopub.status.busy": "2022-07-18T02:27:48.204246Z",
     "iopub.status.idle": "2022-07-18T02:27:48.209116Z",
     "shell.execute_reply": "2022-07-18T02:27:48.207727Z"
    },
    "papermill": {
     "duration": 0.033016,
     "end_time": "2022-07-18T02:27:48.211507",
     "exception": false,
     "start_time": "2022-07-18T02:27:48.178491",
     "status": "completed"
    },
    "tags": []
   },
   "outputs": [],
   "source": [
    "## For optimization\n",
    "#catboost = tune_model(create_model('catboost'), optimize='Accuracy',\n",
    "#                        search_library='optuna', search_algorithm='tpe',\n",
    "#                        choose_better = False, n_iter = 20)"
   ]
  },
  {
   "cell_type": "code",
   "execution_count": 32,
   "id": "745b172d",
   "metadata": {
    "execution": {
     "iopub.execute_input": "2022-07-18T02:27:48.262355Z",
     "iopub.status.busy": "2022-07-18T02:27:48.261921Z",
     "iopub.status.idle": "2022-07-18T02:27:48.267499Z",
     "shell.execute_reply": "2022-07-18T02:27:48.265982Z"
    },
    "papermill": {
     "duration": 0.033457,
     "end_time": "2022-07-18T02:27:48.269712",
     "exception": false,
     "start_time": "2022-07-18T02:27:48.236255",
     "status": "completed"
    },
    "tags": []
   },
   "outputs": [],
   "source": [
    "## For model evaluating\n",
    "#evaluate_model(catboost)"
   ]
  },
  {
   "cell_type": "markdown",
   "id": "eac4e394",
   "metadata": {
    "papermill": {
     "duration": 0.023649,
     "end_time": "2022-07-18T02:27:48.317852",
     "exception": false,
     "start_time": "2022-07-18T02:27:48.294203",
     "status": "completed"
    },
    "tags": []
   },
   "source": [
    "# Raw data performance\n",
    "<a href=\"https://ibb.co/k1dChyz\"><img src=\"https://i.ibb.co/749mGzB/Ekran-Resmi-2022-07-17-13-26-41.png\" alt=\"Ekran-Resmi-2022-07-17-13-26-41\" border=\"0\"></a>"
   ]
  },
  {
   "cell_type": "markdown",
   "id": "2ec0a54e",
   "metadata": {
    "papermill": {
     "duration": 0.02442,
     "end_time": "2022-07-18T02:27:48.366547",
     "exception": false,
     "start_time": "2022-07-18T02:27:48.342127",
     "status": "completed"
    },
    "tags": []
   },
   "source": [
    "#### Optimized CatBoost (Acc: 95.72, AUC: 82 from Acc: 95.43 AUC: 79.76)"
   ]
  },
  {
   "cell_type": "markdown",
   "id": "72d30b60",
   "metadata": {
    "papermill": {
     "duration": 0.023763,
     "end_time": "2022-07-18T02:27:48.414765",
     "exception": false,
     "start_time": "2022-07-18T02:27:48.391002",
     "status": "completed"
    },
    "tags": []
   },
   "source": [
    "# Medical categorization\n",
    "\n",
    "<a href=\"https://ibb.co/FHBZJVD\"><img src=\"https://i.ibb.co/0sf4ZtG/Ekran-Resmi-2022-07-17-13-40-57.png\" alt=\"Ekran-Resmi-2022-07-17-13-40-57\" border=\"0\"></a>"
   ]
  },
  {
   "cell_type": "markdown",
   "id": "0d7d0a70",
   "metadata": {
    "papermill": {
     "duration": 0.024574,
     "end_time": "2022-07-18T02:27:48.463600",
     "exception": false,
     "start_time": "2022-07-18T02:27:48.439026",
     "status": "completed"
    },
    "tags": []
   },
   "source": [
    "#### Optimized CatBoost (Acc: 95.59, AUC: 83.50 from Acc: 94.9 AUC: 77.16)"
   ]
  },
  {
   "cell_type": "markdown",
   "id": "22076a7f",
   "metadata": {
    "papermill": {
     "duration": 0.023529,
     "end_time": "2022-07-18T02:27:48.511507",
     "exception": false,
     "start_time": "2022-07-18T02:27:48.487978",
     "status": "completed"
    },
    "tags": []
   },
   "source": [
    "# Binned categorization\n",
    "\n",
    "<a href=\"https://ibb.co/q91BF6n\"><img src=\"https://i.ibb.co/y5s0B2R/Ekran-Resmi-2022-07-17-13-55-00.png\" alt=\"Ekran-Resmi-2022-07-17-13-55-00\" border=\"0\"></a><br /><a target='_blank' href='https://tr.imgbb.com/'></a><br />"
   ]
  },
  {
   "cell_type": "markdown",
   "id": "47353d4e",
   "metadata": {
    "papermill": {
     "duration": 0.023364,
     "end_time": "2022-07-18T02:27:48.558860",
     "exception": false,
     "start_time": "2022-07-18T02:27:48.535496",
     "status": "completed"
    },
    "tags": []
   },
   "source": [
    "#### Optimized CatBoost (Acc: 95.77, AUC: 81.96 from Acc: 95.01 AUC: 74.53)"
   ]
  },
  {
   "cell_type": "markdown",
   "id": "cfd34ec6",
   "metadata": {
    "papermill": {
     "duration": 0.023695,
     "end_time": "2022-07-18T02:27:48.606218",
     "exception": false,
     "start_time": "2022-07-18T02:27:48.582523",
     "status": "completed"
    },
    "tags": []
   },
   "source": [
    "# Quantile categorization\n",
    "<a href=\"https://ibb.co/NtXzy6W\"><img src=\"https://i.ibb.co/Fm9tDb8/Ekran-Resmi-2022-07-17-14-00-42.png\" alt=\"Ekran-Resmi-2022-07-17-14-00-42\" border=\"0\"></a>"
   ]
  },
  {
   "cell_type": "markdown",
   "id": "3dade67f",
   "metadata": {
    "papermill": {
     "duration": 0.023544,
     "end_time": "2022-07-18T02:27:48.653753",
     "exception": false,
     "start_time": "2022-07-18T02:27:48.630209",
     "status": "completed"
    },
    "tags": []
   },
   "source": [
    "#### Optimized CatBoost (Acc: 95.59, AUC: 82.34 from Acc: 95.24 AUC: 75.53)"
   ]
  },
  {
   "cell_type": "markdown",
   "id": "44dde4cc",
   "metadata": {
    "papermill": {
     "duration": 0.023477,
     "end_time": "2022-07-18T02:27:48.701027",
     "exception": false,
     "start_time": "2022-07-18T02:27:48.677550",
     "status": "completed"
    },
    "tags": []
   },
   "source": [
    "# CART categorization\n",
    "<a href=\"https://ibb.co/mRg2CgS\"><img src=\"https://i.ibb.co/S6GMXGJ/Ekran-Resmi-2022-07-17-14-07-23.png\" alt=\"Ekran-Resmi-2022-07-17-14-07-23\" border=\"0\"></a>"
   ]
  },
  {
   "cell_type": "markdown",
   "id": "b20634a2",
   "metadata": {
    "papermill": {
     "duration": 0.023475,
     "end_time": "2022-07-18T02:27:48.748263",
     "exception": false,
     "start_time": "2022-07-18T02:27:48.724788",
     "status": "completed"
    },
    "tags": []
   },
   "source": [
    "#### Optimized CatBoost (Acc: 95.75, AUC: 82.83 from Acc: 95.19 AUC: 77.23)"
   ]
  },
  {
   "cell_type": "code",
   "execution_count": 33,
   "id": "1b16c357",
   "metadata": {
    "execution": {
     "iopub.execute_input": "2022-07-18T02:27:48.798172Z",
     "iopub.status.busy": "2022-07-18T02:27:48.797299Z",
     "iopub.status.idle": "2022-07-18T02:27:49.034216Z",
     "shell.execute_reply": "2022-07-18T02:27:49.033221Z"
    },
    "papermill": {
     "duration": 0.264773,
     "end_time": "2022-07-18T02:27:49.036771",
     "exception": false,
     "start_time": "2022-07-18T02:27:48.771998",
     "status": "completed"
    },
    "tags": []
   },
   "outputs": [
    {
     "data": {
      "text/plain": [
       "(60.0, 100.0)"
      ]
     },
     "execution_count": 33,
     "metadata": {},
     "output_type": "execute_result"
    },
    {
     "data": {
      "image/png": "[encoded data removed]",
      "text/plain": [
       "<Figure size 432x288 with 1 Axes>"
      ]
     },
     "metadata": {
      "needs_background": "light"
     },
     "output_type": "display_data"
    }
   ],
   "source": [
    "methods = [\"Raw\",\"Medical\",\"Binned\",\"Quantile\",\"CART\"]\n",
    "acc = [95.72,95.59,95.77,95.59,95.75]\n",
    "roc = [83.34,82.82,81.67,82.13,83.13]\n",
    "performancedf = pd.DataFrame()\n",
    "performancedf[\"method\"] = methods\n",
    "performancedf[\"Accuracy\"] = acc\n",
    "performancedf[\"ROC-AUC\"] = roc\n",
    "sns.scatterplot(x=performancedf.method,y=performancedf.Accuracy,s=800)\n",
    "sns.scatterplot(x=performancedf.method,y=performancedf[\"ROC-AUC\"],s=800)\n",
    "plt.ylim(60,100)"
   ]
  },
  {
   "cell_type": "code",
   "execution_count": 34,
   "id": "bbe4bfc0",
   "metadata": {
    "execution": {
     "iopub.execute_input": "2022-07-18T02:27:49.091421Z",
     "iopub.status.busy": "2022-07-18T02:27:49.090669Z",
     "iopub.status.idle": "2022-07-18T02:27:49.102162Z",
     "shell.execute_reply": "2022-07-18T02:27:49.101351Z"
    },
    "papermill": {
     "duration": 0.041982,
     "end_time": "2022-07-18T02:27:49.104863",
     "exception": false,
     "start_time": "2022-07-18T02:27:49.062881",
     "status": "completed"
    },
    "tags": []
   },
   "outputs": [
    {
     "data": {
      "text/html": [
       "<div>\n",
       "<style scoped>\n",
       "    .dataframe tbody tr th:only-of-type {\n",
       "        vertical-align: middle;\n",
       "    }\n",
       "\n",
       "    .dataframe tbody tr th {\n",
       "        vertical-align: top;\n",
       "    }\n",
       "\n",
       "    .dataframe thead th {\n",
       "        text-align: right;\n",
       "    }\n",
       "</style>\n",
       "<table border=\"1\" class=\"dataframe\">\n",
       "  <thead>\n",
       "    <tr style=\"text-align: right;\">\n",
       "      <th></th>\n",
       "      <th>method</th>\n",
       "      <th>Accuracy</th>\n",
       "      <th>ROC-AUC</th>\n",
       "    </tr>\n",
       "  </thead>\n",
       "  <tbody>\n",
       "    <tr>\n",
       "      <th>0</th>\n",
       "      <td>Raw</td>\n",
       "      <td>95.72</td>\n",
       "      <td>83.34</td>\n",
       "    </tr>\n",
       "    <tr>\n",
       "      <th>1</th>\n",
       "      <td>Medical</td>\n",
       "      <td>95.59</td>\n",
       "      <td>82.82</td>\n",
       "    </tr>\n",
       "    <tr>\n",
       "      <th>2</th>\n",
       "      <td>Binned</td>\n",
       "      <td>95.77</td>\n",
       "      <td>81.67</td>\n",
       "    </tr>\n",
       "    <tr>\n",
       "      <th>3</th>\n",
       "      <td>Quantile</td>\n",
       "      <td>95.59</td>\n",
       "      <td>82.13</td>\n",
       "    </tr>\n",
       "    <tr>\n",
       "      <th>4</th>\n",
       "      <td>CART</td>\n",
       "      <td>95.75</td>\n",
       "      <td>83.13</td>\n",
       "    </tr>\n",
       "  </tbody>\n",
       "</table>\n",
       "</div>"
      ],
      "text/plain": [
       "     method  Accuracy  ROC-AUC\n",
       "0       Raw     95.72    83.34\n",
       "1   Medical     95.59    82.82\n",
       "2    Binned     95.77    81.67\n",
       "3  Quantile     95.59    82.13\n",
       "4      CART     95.75    83.13"
      ]
     },
     "execution_count": 34,
     "metadata": {},
     "output_type": "execute_result"
    }
   ],
   "source": [
    "performancedf"
   ]
  },
  {
   "cell_type": "markdown",
   "id": "3c65f6a2",
   "metadata": {
    "papermill": {
     "duration": 0.027561,
     "end_time": "2022-07-18T02:27:49.159417",
     "exception": false,
     "start_time": "2022-07-18T02:27:49.131856",
     "status": "completed"
    },
    "tags": []
   },
   "source": [
    "### Best accuracy --> Binned for categorization\n",
    "### Best ROC --> CART for categorization method. Actually Raw data have higher performance. I think pycaret dropped outliers automatically. \n",
    "#### The CART method simply categorizes numerical data and determines the boundaries to be separated. I think categorical data created with the CART method is nicely trained with catboost. In addition, the values I wrote are 10 times cross-validation results, of course there were 99% of them.\n",
    "# But this highest results are too good, to be true."
   ]
  },
  {
   "cell_type": "code",
   "execution_count": 35,
   "id": "5eb85abc",
   "metadata": {
    "execution": {
     "iopub.execute_input": "2022-07-18T02:27:49.214538Z",
     "iopub.status.busy": "2022-07-18T02:27:49.213843Z",
     "iopub.status.idle": "2022-07-18T02:27:49.217703Z",
     "shell.execute_reply": "2022-07-18T02:27:49.216912Z"
    },
    "papermill": {
     "duration": 0.033918,
     "end_time": "2022-07-18T02:27:49.219939",
     "exception": false,
     "start_time": "2022-07-18T02:27:49.186021",
     "status": "completed"
    },
    "tags": []
   },
   "outputs": [],
   "source": [
    "#interpret_model(create_model(\"catboost\"))"
   ]
  },
  {
   "cell_type": "markdown",
   "id": "941ad83c",
   "metadata": {
    "papermill": {
     "duration": 0.024939,
     "end_time": "2022-07-18T02:27:49.270500",
     "exception": false,
     "start_time": "2022-07-18T02:27:49.245561",
     "status": "completed"
    },
    "tags": []
   },
   "source": [
    "### When the evaluate the model by SHAP, it is really fitted for medicine\n",
    "<a href=\"https://ibb.co/DkWPfM4\"><img src=\"https://i.ibb.co/Cv8pK9B/Ekran-Resmi-2022-07-17-14-16-07.png\" alt=\"Ekran-Resmi-2022-07-17-14-16-07\" border=\"0\"></a>"
   ]
  },
  {
   "cell_type": "markdown",
   "id": "62079cc6",
   "metadata": {
    "papermill": {
     "duration": 0.024954,
     "end_time": "2022-07-18T02:27:49.320867",
     "exception": false,
     "start_time": "2022-07-18T02:27:49.295913",
     "status": "completed"
    },
    "tags": []
   },
   "source": [
    "![](https://res.cloudinary.com/engineering-com/image/upload/w_640,h_640,c_limit/14362923312_79b705e965_b_g9qlm7.jpg)"
   ]
  },
  {
   "cell_type": "markdown",
   "id": "d8808356",
   "metadata": {
    "papermill": {
     "duration": 0.025773,
     "end_time": "2022-07-18T02:27:49.373451",
     "exception": false,
     "start_time": "2022-07-18T02:27:49.347678",
     "status": "completed"
    },
    "tags": []
   },
   "source": [
    "### My experiment is over now. \n",
    "#### What I was learn, categorization of numeric features doesnt very important. Maybe it would be more accurate to say that it doesn't matter which method affects the result more.\n",
    "#### There is an idiom in Turkish about unnecessary effort; \"Removing the oil from a fly's wings\". Yes we are removed the oil from a fly's wings but we are learned a lot of things about the categorization.  Thank you for reading this notebook. Keep contact.\n",
    "![](https://sd.keepcalms.com/i-w600/please-follow-me-and-like-this.jpg)"
   ]
  }
 ],
 "metadata": {
  "kernelspec": {
   "display_name": "Python 3",
   "language": "python",
   "name": "python3"
  },
  "language_info": {
   "codemirror_mode": {
    "name": "ipython",
    "version": 3
   },
   "file_extension": ".py",
   "mimetype": "text/x-python",
   "name": "python",
   "nbconvert_exporter": "python",
   "pygments_lexer": "ipython3",
   "version": "3.7.12"
  },
  "papermill": {
   "default_parameters": {},
   "duration": 39.794027,
   "end_time": "2022-07-18T02:27:50.324305",
   "environment_variables": {},
   "exception": null,
   "input_path": "__notebook__.ipynb",
   "output_path": "__notebook__.ipynb",
   "parameters": {},
   "start_time": "2022-07-18T02:27:10.530278",
   "version": "2.3.4"
  }
 },
 "nbformat": 4,
 "nbformat_minor": 5
}
